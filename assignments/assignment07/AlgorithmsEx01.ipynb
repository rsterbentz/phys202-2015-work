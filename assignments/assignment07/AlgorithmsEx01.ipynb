{
 "cells": [
  {
   "cell_type": "markdown",
   "metadata": {
    "nbgrader": {}
   },
   "source": [
    "# Algorithms Exercise 1"
   ]
  },
  {
   "cell_type": "markdown",
   "metadata": {
    "nbgrader": {}
   },
   "source": [
    "## Imports"
   ]
  },
  {
   "cell_type": "code",
   "execution_count": 1,
   "metadata": {
    "collapsed": true,
    "nbgrader": {}
   },
   "outputs": [],
   "source": [
    "%matplotlib inline\n",
    "from matplotlib import pyplot as plt\n",
    "import numpy as np"
   ]
  },
  {
   "cell_type": "markdown",
   "metadata": {
    "nbgrader": {}
   },
   "source": [
    "## Word counting"
   ]
  },
  {
   "cell_type": "markdown",
   "metadata": {
    "nbgrader": {}
   },
   "source": [
    "Write a function `tokenize` that takes a string of English text returns a list of words. It should also remove [stop words](http://en.wikipedia.org/wiki/Stop_words), which are common short words that are often removed before natural language processing. Your function should have the following logic:\n",
    "\n",
    "* Split the string into lines using `splitlines`.\n",
    "* Split each line into a list of words and merge the lists for each line.\n",
    "* Use Python's builtin `filter` function to remove all punctuation.\n",
    "* If `stop_words` is a list, remove all occurences of the words in the list.\n",
    "* If `stop_words` is a space delimeted string of words, split them and remove them.\n",
    "* Remove any remaining empty words.\n",
    "* Make all words lowercase."
   ]
  },
  {
   "cell_type": "code",
   "execution_count": 2,
   "metadata": {
    "collapsed": false,
    "nbgrader": {
     "checksum": "6b81e3d18c7d985eb0f20f45b5a1e33a",
     "solution": true
    }
   },
   "outputs": [],
   "source": [
    "def tokenize(s, stop_words=None, punctuation='`~!@#$%^&*()_-+={[}]|\\:;\"<,>.?/}\\t'):\n",
    "    \"\"\"Split a string into a list of words, removing punctuation and stop words.\"\"\"\n",
    "    low = []\n",
    "    t = s.splitlines()\n",
    "    for i in range(len(t)):\n",
    "        u = t[i].split()\n",
    "        for j in range(len(u)):\n",
    "            low.append(u[j])                        # Turns multi-lined string into neat list\n",
    "    no_more_punc = []\n",
    "    for k in range(len(low)):\n",
    "        no_more_punc.append(''.join(list(filter(lambda x: not x in punctuation, low[k]))))      # Removes punctuation\n",
    "    if type(stop_words)==list:\n",
    "        no_more_stops = list(filter(lambda x: not x in stop_words, no_more_punc))               # Removes stop words\n",
    "    elif type(stop_words)==str:\n",
    "        no_more_stops = list(filter(lambda x: not x in stop_words.split(), no_more_punc))       # for different input types\n",
    "    elif stop_words==None:\n",
    "        no_more_stops = no_more_punc\n",
    "    no_gaps = list(filter(lambda x: not x=='', no_more_stops))                                  # Removes empty strings\n",
    "    all_low = []\n",
    "    for l in range(len(no_gaps)):\n",
    "        all_low.append(no_gaps[l].lower())                                                      # Removes any capitalization\n",
    "    return all_low"
   ]
  },
  {
   "cell_type": "code",
   "execution_count": 3,
   "metadata": {
    "collapsed": false
   },
   "outputs": [
    {
     "data": {
      "text/plain": [
       "['this', 'way', 'that', 'things', 'will', 'end']"
      ]
     },
     "execution_count": 3,
     "metadata": {},
     "output_type": "execute_result"
    }
   ],
   "source": [
    "tokenize(\"This, is the way; that things will end\", stop_words=['the', 'is'])"
   ]
  },
  {
   "cell_type": "code",
   "execution_count": 4,
   "metadata": {
    "collapsed": false,
    "deletable": false,
    "nbgrader": {
     "checksum": "51938ebee4d1863467fba80579b46318",
     "grade": true,
     "grade_id": "algorithmsex01a",
     "points": 2
    }
   },
   "outputs": [],
   "source": [
    "assert tokenize(\"This, is the way; that things will end\", stop_words=['the', 'is']) == \\\n",
    "    ['this', 'way', 'that', 'things', 'will', 'end']\n",
    "wasteland = \"\"\"\n",
    "APRIL is the cruellest month, breeding\n",
    "Lilacs out of the dead land, mixing\n",
    "Memory and desire, stirring\n",
    "Dull roots with spring rain.\n",
    "\"\"\"\n",
    "\n",
    "assert tokenize(wasteland, stop_words='is the of and') == \\\n",
    "    ['april','cruellest','month','breeding','lilacs','out','dead','land',\n",
    "     'mixing','memory','desire','stirring','dull','roots','with','spring',\n",
    "     'rain']"
   ]
  },
  {
   "cell_type": "markdown",
   "metadata": {
    "nbgrader": {}
   },
   "source": [
    "Write a function `count_words` that takes a list of words and returns a dictionary where the keys in the dictionary are the unique words in the list and the values are the word counts."
   ]
  },
  {
   "cell_type": "code",
   "execution_count": 5,
   "metadata": {
    "collapsed": false
   },
   "outputs": [
    {
     "data": {
      "text/plain": [
       "{1: 'one', 2: 'two', 3: 'three'}"
      ]
     },
     "execution_count": 5,
     "metadata": {},
     "output_type": "execute_result"
    }
   ],
   "source": [
    "p = [1,2,3]\n",
    "q = ['one','two','three']\n",
    "pq = []\n",
    "for i in range(len(p)):\n",
    "    pq.append((p[i],q[i]))\n",
    "d = dict(pq)\n",
    "d"
   ]
  },
  {
   "cell_type": "code",
   "execution_count": 6,
   "metadata": {
    "collapsed": true,
    "nbgrader": {
     "checksum": "a94c1a7e986d4d8d3b80695b02e16015",
     "grade": false,
     "grade_id": "algorithmsex01b",
     "points": 2,
     "solution": true
    }
   },
   "outputs": [],
   "source": [
    "def count_words(data):\n",
    "    \"\"\"Return a word count dictionary from the list of words in data.\"\"\"\n",
    "    word = []\n",
    "    count = []\n",
    "    for i in range(len(data)):\n",
    "        if not data[i] in word:\n",
    "            word.append(data[i])\n",
    "            count.append(1)\n",
    "        elif data[i] in word:\n",
    "            for j in range(len(word)):\n",
    "                if word[j]==data[i]:\n",
    "                    count[j]+=1\n",
    "    wc = []\n",
    "    for j in range(len(word)):\n",
    "        wc.append((word[j],count[j]))\n",
    "    wcd = dict(wc)\n",
    "    return wcd"
   ]
  },
  {
   "cell_type": "code",
   "execution_count": 7,
   "metadata": {
    "collapsed": false
   },
   "outputs": [
    {
     "data": {
      "text/plain": [
       "{'a': 3, 'and': 2, 'from': 1, 'the': 1, 'this': 2}"
      ]
     },
     "execution_count": 7,
     "metadata": {},
     "output_type": "execute_result"
    }
   ],
   "source": [
    "count_words(tokenize('this and the this from and a a a'))"
   ]
  },
  {
   "cell_type": "code",
   "execution_count": 8,
   "metadata": {
    "collapsed": false,
    "deletable": false,
    "nbgrader": {
     "checksum": "77c9b760f563b041b6386781c42dc0e2",
     "grade": true,
     "grade_id": "algorithmsex01b",
     "points": 2
    }
   },
   "outputs": [],
   "source": [
    "assert count_words(tokenize('this and the this from and a a a')) == \\\n",
    "    {'a': 3, 'and': 2, 'from': 1, 'the': 1, 'this': 2}"
   ]
  },
  {
   "cell_type": "markdown",
   "metadata": {
    "nbgrader": {}
   },
   "source": [
    "Write a function `sort_word_counts` that return a list of sorted word counts:\n",
    "\n",
    "* Each element of the list should be a `(word, count)` tuple.\n",
    "* The list should be sorted by the word counts, with the higest counts coming first.\n",
    "* To perform this sort, look at using the `sorted` function with a custom `key` and `reverse`\n",
    "  argument."
   ]
  },
  {
   "cell_type": "code",
   "execution_count": 9,
   "metadata": {
    "collapsed": false
   },
   "outputs": [
    {
     "data": {
      "text/plain": [
       "[(3, 'three'), (2, 'two'), (1, 'one')]"
      ]
     },
     "execution_count": 9,
     "metadata": {},
     "output_type": "execute_result"
    }
   ],
   "source": [
    "wiggity = [(1,'one'),(3,'three'),(2,'two')]\n",
    "sorted(wiggity, key=lambda x: x[0], reverse=True)"
   ]
  },
  {
   "cell_type": "code",
   "execution_count": 10,
   "metadata": {
    "collapsed": false
   },
   "outputs": [
    {
     "data": {
      "text/plain": [
       "([1, 2, 3], 2)"
      ]
     },
     "execution_count": 10,
     "metadata": {},
     "output_type": "execute_result"
    }
   ],
   "source": [
    "boogity = {1:2,2:3,3:4}\n",
    "list(iter(boogity)),boogity[1]"
   ]
  },
  {
   "cell_type": "code",
   "execution_count": 11,
   "metadata": {
    "collapsed": true,
    "nbgrader": {
     "checksum": "5c68f353c6c5f3e1494e7d2902480ebf",
     "solution": true
    }
   },
   "outputs": [],
   "source": [
    "def sort_word_counts(wc):\n",
    "    \"\"\"Return a list of 2-tuples of (word, count), sorted by count descending.\"\"\"\n",
    "    word = list(iter(wc))\n",
    "    count = []\n",
    "    for i in word:\n",
    "        count.append(wc[i])\n",
    "    tups = []\n",
    "    for j in range(len(word)):\n",
    "        tups.append((word[j],count[j]))\n",
    "    return sorted(tups, key=lambda x: x[1], reverse=True)"
   ]
  },
  {
   "cell_type": "code",
   "execution_count": 12,
   "metadata": {
    "collapsed": false
   },
   "outputs": [
    {
     "data": {
      "text/plain": [
       "[('a', 4), ('this', 3), ('and', 2), ('the', 1)]"
      ]
     },
     "execution_count": 12,
     "metadata": {},
     "output_type": "execute_result"
    }
   ],
   "source": [
    "sort_word_counts(count_words(tokenize('this and a the this this and a a a')))"
   ]
  },
  {
   "cell_type": "code",
   "execution_count": 13,
   "metadata": {
    "collapsed": false,
    "deletable": false,
    "nbgrader": {
     "checksum": "e3fd160136fc78f4a7c3fc027d445b4a",
     "grade": true,
     "grade_id": "algorithmsex01c",
     "points": 2
    }
   },
   "outputs": [],
   "source": [
    "assert sort_word_counts(count_words(tokenize('this and a the this this and a a a'))) == \\\n",
    "    [('a', 4), ('this', 3), ('and', 2), ('the', 1)]"
   ]
  },
  {
   "cell_type": "markdown",
   "metadata": {
    "nbgrader": {}
   },
   "source": [
    "Perform a word count analysis on Chapter 1 of Moby Dick, whose text can be found in the file `mobydick_chapter1.txt`:\n",
    "\n",
    "* Read the file into a string.\n",
    "* Tokenize with stop words of `'the of and a to in is it that as'`.\n",
    "* Perform a word count, the sort and save the result in a variable named `swc`."
   ]
  },
  {
   "cell_type": "code",
   "execution_count": 14,
   "metadata": {
    "collapsed": false,
    "deletable": false,
    "nbgrader": {
     "checksum": "6cff4e8e53b15273846c3aecaea84a3d",
     "solution": true
    }
   },
   "outputs": [
    {
     "data": {
      "text/plain": [
       "True"
      ]
     },
     "execution_count": 14,
     "metadata": {},
     "output_type": "execute_result"
    }
   ],
   "source": [
    "with open('mobydick_chapter1.txt', 'r') as f:\n",
    "    read_text = f.read()\n",
    "f.closed"
   ]
  },
  {
   "cell_type": "code",
   "execution_count": 15,
   "metadata": {
    "collapsed": false
   },
   "outputs": [],
   "source": [
    "swc = sort_word_counts(count_words(tokenize(read_text, 'the of and a to in is it that as')))"
   ]
  },
  {
   "cell_type": "code",
   "execution_count": 16,
   "metadata": {
    "collapsed": false,
    "deletable": false,
    "nbgrader": {
     "checksum": "0c74fa7fa2b9ad5a6b54a0b3f04ac9dc",
     "grade": true,
     "grade_id": "algorithmsex01d",
     "points": 2
    }
   },
   "outputs": [],
   "source": [
    "assert swc[0]==('i',43)\n",
    "assert len(swc)==848"
   ]
  },
  {
   "cell_type": "markdown",
   "metadata": {
    "nbgrader": {}
   },
   "source": [
    "Create a \"Cleveland Style\" [dotplot](http://en.wikipedia.org/wiki/Dot_plot_%28statistics%29) of the counts of the top 50 words using Matplotlib. If you don't know what a dotplot is, you will have to do some research..."
   ]
  },
  {
   "cell_type": "code",
   "execution_count": null,
   "metadata": {
    "collapsed": true,
    "deletable": false,
    "nbgrader": {
     "checksum": "6cff4e8e53b15273846c3aecaea84a3d",
     "solution": true
    }
   },
   "outputs": [],
   "source": [
    "# YOUR CODE HERE\n",
    "raise NotImplementedError()"
   ]
  },
  {
   "cell_type": "code",
   "execution_count": null,
   "metadata": {
    "collapsed": true,
    "deletable": false,
    "nbgrader": {
     "checksum": "481908a47f48647c344ed328c691ba63",
     "grade": true,
     "grade_id": "algorithsex01e",
     "points": 2
    }
   },
   "outputs": [],
   "source": [
    "assert True # use this for grading the dotplot"
   ]
  }
 ],
 "metadata": {
  "kernelspec": {
   "display_name": "Python 3",
   "language": "python",
   "name": "python3"
  },
  "language_info": {
   "codemirror_mode": {
    "name": "ipython",
    "version": 3
   },
   "file_extension": ".py",
   "mimetype": "text/x-python",
   "name": "python",
   "nbconvert_exporter": "python",
   "pygments_lexer": "ipython3",
   "version": "3.4.0"
  }
 },
 "nbformat": 4,
 "nbformat_minor": 0
}
