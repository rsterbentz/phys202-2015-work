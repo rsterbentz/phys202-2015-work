{
 "cells": [
  {
   "cell_type": "markdown",
   "metadata": {
    "nbgrader": {}
   },
   "source": [
    "# Algorithms Exercise 1"
   ]
  },
  {
   "cell_type": "markdown",
   "metadata": {
    "nbgrader": {}
   },
   "source": [
    "## Imports"
   ]
  },
  {
   "cell_type": "code",
   "execution_count": 1,
   "metadata": {
    "collapsed": true,
    "nbgrader": {}
   },
   "outputs": [],
   "source": [
    "%matplotlib inline\n",
    "from matplotlib import pyplot as plt\n",
    "import numpy as np"
   ]
  },
  {
   "cell_type": "markdown",
   "metadata": {
    "nbgrader": {}
   },
   "source": [
    "## Word counting"
   ]
  },
  {
   "cell_type": "markdown",
   "metadata": {
    "nbgrader": {}
   },
   "source": [
    "Write a function `tokenize` that takes a string of English text returns a list of words. It should also remove [stop words](http://en.wikipedia.org/wiki/Stop_words), which are common short words that are often removed before natural language processing. Your function should have the following logic:\n",
    "\n",
    "* Split the string into lines using `splitlines`.\n",
    "* Split each line into a list of words and merge the lists for each line.\n",
    "* Use Python's builtin `filter` function to remove all punctuation.\n",
    "* If `stop_words` is a list, remove all occurences of the words in the list.\n",
    "* If `stop_words` is a space delimeted string of words, split them and remove them.\n",
    "* Remove any remaining empty words.\n",
    "* Make all words lowercase."
   ]
  },
  {
   "cell_type": "code",
   "execution_count": 2,
   "metadata": {
    "collapsed": false,
    "nbgrader": {
     "checksum": "6b81e3d18c7d985eb0f20f45b5a1e33a",
     "solution": true
    }
   },
   "outputs": [],
   "source": [
    "def tokenize(s, stop_words=None, punctuation='`~!@#$%^&*()_-+={[}]|\\:;\"<,>.?/}\\t'):\n",
    "    \"\"\"Split a string into a list of words, removing punctuation and stop words.\"\"\"\n",
    "    low = []\n",
    "    t = s.splitlines()\n",
    "    for i in range(len(t)):\n",
    "        u = t[i].split()\n",
    "        for j in range(len(u)):\n",
    "            low.append(u[j])                        # Turns multi-lined string into neat list\n",
    "    no_more_punc = []\n",
    "    for k in range(len(low)):\n",
    "        no_more_punc.append(''.join(list(filter(lambda x: not x in punctuation, low[k]))))      # Removes punctuation\n",
    "    if type(stop_words)==list:\n",
    "        no_more_stops = list(filter(lambda x: not x in stop_words, no_more_punc))               # Removes stop words\n",
    "    elif type(stop_words)==str:\n",
    "        no_more_stops = list(filter(lambda x: not x in stop_words.split(), no_more_punc))       # for different input types\n",
    "    elif stop_words==None:\n",
    "        no_more_stops = no_more_punc\n",
    "    no_gaps = list(filter(lambda x: not x=='', no_more_stops))                                  # Removes empty strings\n",
    "    all_low = []\n",
    "    for l in range(len(no_gaps)):\n",
    "        all_low.append(no_gaps[l].lower())                                                      # Removes any capitalization\n",
    "    return all_low"
   ]
  },
  {
   "cell_type": "code",
   "execution_count": 3,
   "metadata": {
    "collapsed": false
   },
   "outputs": [
    {
     "data": {
      "text/plain": [
       "['this', 'way', 'that', 'things', 'will', 'end']"
      ]
     },
     "execution_count": 3,
     "metadata": {},
     "output_type": "execute_result"
    }
   ],
   "source": [
    "tokenize(\"This, is the way; that things will end\", stop_words=['the', 'is'])"
   ]
  },
  {
   "cell_type": "code",
   "execution_count": 4,
   "metadata": {
    "collapsed": false,
    "deletable": false,
    "nbgrader": {
     "checksum": "51938ebee4d1863467fba80579b46318",
     "grade": true,
     "grade_id": "algorithmsex01a",
     "points": 2
    }
   },
   "outputs": [],
   "source": [
    "assert tokenize(\"This, is the way; that things will end\", stop_words=['the', 'is']) == \\\n",
    "    ['this', 'way', 'that', 'things', 'will', 'end']\n",
    "wasteland = \"\"\"\n",
    "APRIL is the cruellest month, breeding\n",
    "Lilacs out of the dead land, mixing\n",
    "Memory and desire, stirring\n",
    "Dull roots with spring rain.\n",
    "\"\"\"\n",
    "\n",
    "assert tokenize(wasteland, stop_words='is the of and') == \\\n",
    "    ['april','cruellest','month','breeding','lilacs','out','dead','land',\n",
    "     'mixing','memory','desire','stirring','dull','roots','with','spring',\n",
    "     'rain']"
   ]
  },
  {
   "cell_type": "markdown",
   "metadata": {
    "nbgrader": {}
   },
   "source": [
    "Write a function `count_words` that takes a list of words and returns a dictionary where the keys in the dictionary are the unique words in the list and the values are the word counts."
   ]
  },
  {
   "cell_type": "code",
   "execution_count": 5,
   "metadata": {
    "collapsed": false
   },
   "outputs": [
    {
     "data": {
      "text/plain": [
       "{1: 'one', 2: 'two', 3: 'three'}"
      ]
     },
     "execution_count": 5,
     "metadata": {},
     "output_type": "execute_result"
    }
   ],
   "source": [
    "p = [1,2,3]\n",
    "q = ['one','two','three']\n",
    "pq = []\n",
    "for i in range(len(p)):\n",
    "    pq.append((p[i],q[i]))\n",
    "d = dict(pq)\n",
    "d"
   ]
  },
  {
   "cell_type": "code",
   "execution_count": 6,
   "metadata": {
    "collapsed": true,
    "nbgrader": {
     "checksum": "a94c1a7e986d4d8d3b80695b02e16015",
     "grade": false,
     "grade_id": "algorithmsex01b",
     "points": 2,
     "solution": true
    }
   },
   "outputs": [],
   "source": [
    "def count_words(data):\n",
    "    \"\"\"Return a word count dictionary from the list of words in data.\"\"\"\n",
    "    word = []\n",
    "    count = []\n",
    "    for i in range(len(data)):\n",
    "        if not data[i] in word:\n",
    "            word.append(data[i])\n",
    "            count.append(1)\n",
    "        elif data[i] in word:\n",
    "            for j in range(len(word)):\n",
    "                if word[j]==data[i]:\n",
    "                    count[j]+=1\n",
    "    wc = []\n",
    "    for j in range(len(word)):\n",
    "        wc.append((word[j],count[j]))\n",
    "    wcd = dict(wc)\n",
    "    return wcd"
   ]
  },
  {
   "cell_type": "code",
   "execution_count": 7,
   "metadata": {
    "collapsed": false
   },
   "outputs": [
    {
     "data": {
      "text/plain": [
       "{'a': 3, 'and': 2, 'from': 1, 'the': 1, 'this': 2}"
      ]
     },
     "execution_count": 7,
     "metadata": {},
     "output_type": "execute_result"
    }
   ],
   "source": [
    "count_words(tokenize('this and the this from and a a a'))"
   ]
  },
  {
   "cell_type": "code",
   "execution_count": 8,
   "metadata": {
    "collapsed": false,
    "deletable": false,
    "nbgrader": {
     "checksum": "77c9b760f563b041b6386781c42dc0e2",
     "grade": true,
     "grade_id": "algorithmsex01b",
     "points": 2
    }
   },
   "outputs": [],
   "source": [
    "assert count_words(tokenize('this and the this from and a a a')) == \\\n",
    "    {'a': 3, 'and': 2, 'from': 1, 'the': 1, 'this': 2}"
   ]
  },
  {
   "cell_type": "markdown",
   "metadata": {
    "nbgrader": {}
   },
   "source": [
    "Write a function `sort_word_counts` that return a list of sorted word counts:\n",
    "\n",
    "* Each element of the list should be a `(word, count)` tuple.\n",
    "* The list should be sorted by the word counts, with the higest counts coming first.\n",
    "* To perform this sort, look at using the `sorted` function with a custom `key` and `reverse`\n",
    "  argument."
   ]
  },
  {
   "cell_type": "code",
   "execution_count": 9,
   "metadata": {
    "collapsed": false
   },
   "outputs": [
    {
     "data": {
      "text/plain": [
       "[(3, 'three'), (2, 'two'), (1, 'one')]"
      ]
     },
     "execution_count": 9,
     "metadata": {},
     "output_type": "execute_result"
    }
   ],
   "source": [
    "wiggity = [(1,'one'),(3,'three'),(2,'two')]\n",
    "sorted(wiggity, key=lambda x: x[0], reverse=True)"
   ]
  },
  {
   "cell_type": "code",
   "execution_count": 10,
   "metadata": {
    "collapsed": false
   },
   "outputs": [
    {
     "data": {
      "text/plain": [
       "([1, 2, 3], 2)"
      ]
     },
     "execution_count": 10,
     "metadata": {},
     "output_type": "execute_result"
    }
   ],
   "source": [
    "boogity = {1:2,2:3,3:4}\n",
    "list(iter(boogity)),boogity[1]"
   ]
  },
  {
   "cell_type": "code",
   "execution_count": 11,
   "metadata": {
    "collapsed": true,
    "nbgrader": {
     "checksum": "5c68f353c6c5f3e1494e7d2902480ebf",
     "solution": true
    }
   },
   "outputs": [],
   "source": [
    "def sort_word_counts(wc):\n",
    "    \"\"\"Return a list of 2-tuples of (word, count), sorted by count descending.\"\"\"\n",
    "    word = list(iter(wc))\n",
    "    count = []\n",
    "    for i in word:\n",
    "        count.append(wc[i])\n",
    "    tups = []\n",
    "    for j in range(len(word)):\n",
    "        tups.append((word[j],count[j]))\n",
    "    return sorted(tups, key=lambda x: x[1], reverse=True)"
   ]
  },
  {
   "cell_type": "code",
   "execution_count": 12,
   "metadata": {
    "collapsed": false
   },
   "outputs": [
    {
     "data": {
      "text/plain": [
       "[('a', 4), ('this', 3), ('and', 2), ('the', 1)]"
      ]
     },
     "execution_count": 12,
     "metadata": {},
     "output_type": "execute_result"
    }
   ],
   "source": [
    "sort_word_counts(count_words(tokenize('this and a the this this and a a a')))"
   ]
  },
  {
   "cell_type": "code",
   "execution_count": 13,
   "metadata": {
    "collapsed": false,
    "deletable": false,
    "nbgrader": {
     "checksum": "e3fd160136fc78f4a7c3fc027d445b4a",
     "grade": true,
     "grade_id": "algorithmsex01c",
     "points": 2
    }
   },
   "outputs": [],
   "source": [
    "assert sort_word_counts(count_words(tokenize('this and a the this this and a a a'))) == \\\n",
    "    [('a', 4), ('this', 3), ('and', 2), ('the', 1)]"
   ]
  },
  {
   "cell_type": "markdown",
   "metadata": {
    "nbgrader": {}
   },
   "source": [
    "Perform a word count analysis on Chapter 1 of Moby Dick, whose text can be found in the file `mobydick_chapter1.txt`:\n",
    "\n",
    "* Read the file into a string.\n",
    "* Tokenize with stop words of `'the of and a to in is it that as'`.\n",
    "* Perform a word count, the sort and save the result in a variable named `swc`."
   ]
  },
  {
   "cell_type": "code",
   "execution_count": 14,
   "metadata": {
    "collapsed": false,
    "deletable": false,
    "nbgrader": {
     "checksum": "6cff4e8e53b15273846c3aecaea84a3d",
     "solution": true
    }
   },
   "outputs": [
    {
     "data": {
      "text/plain": [
       "True"
      ]
     },
     "execution_count": 14,
     "metadata": {},
     "output_type": "execute_result"
    }
   ],
   "source": [
    "with open('mobydick_chapter1.txt', 'r') as f:\n",
    "    read_text = f.read()\n",
    "f.closed"
   ]
  },
  {
   "cell_type": "code",
   "execution_count": 15,
   "metadata": {
    "collapsed": false
   },
   "outputs": [],
   "source": [
    "swc = sort_word_counts(count_words(tokenize(read_text, 'the of and a to in is it that as')))"
   ]
  },
  {
   "cell_type": "code",
   "execution_count": 16,
   "metadata": {
    "collapsed": false,
    "deletable": false,
    "nbgrader": {
     "checksum": "0c74fa7fa2b9ad5a6b54a0b3f04ac9dc",
     "grade": true,
     "grade_id": "algorithmsex01d",
     "points": 2
    }
   },
   "outputs": [],
   "source": [
    "assert swc[0]==('i',43)\n",
    "assert len(swc)==848"
   ]
  },
  {
   "cell_type": "markdown",
   "metadata": {
    "nbgrader": {}
   },
   "source": [
    "Create a \"Cleveland Style\" [dotplot](http://en.wikipedia.org/wiki/Dot_plot_%28statistics%29) of the counts of the top 50 words using Matplotlib. If you don't know what a dotplot is, you will have to do some research..."
   ]
  },
  {
   "cell_type": "code",
   "execution_count": 17,
   "metadata": {
    "collapsed": false
   },
   "outputs": [
    {
     "data": {
      "text/plain": [
       "[('i', 43),\n",
       " ('me', 24),\n",
       " ('all', 23),\n",
       " ('you', 23),\n",
       " ('this', 17),\n",
       " ('for', 16),\n",
       " ('but', 15),\n",
       " ('there', 15),\n",
       " ('my', 14),\n",
       " ('with', 13),\n",
       " ('go', 12),\n",
       " ('they', 12),\n",
       " ('on', 12),\n",
       " ('not', 11),\n",
       " ('some', 11),\n",
       " ('from', 11),\n",
       " ('sea', 10),\n",
       " ('one', 10),\n",
       " ('his', 10),\n",
       " ('or', 10),\n",
       " ('upon', 9),\n",
       " ('be', 9),\n",
       " ('he', 9),\n",
       " ('into', 9),\n",
       " ('if', 9),\n",
       " ('by', 8),\n",
       " ('have', 8),\n",
       " ('was', 8),\n",
       " ('and', 7),\n",
       " ('were', 7),\n",
       " ('what', 7),\n",
       " ('do', 7),\n",
       " ('part', 7),\n",
       " ('why', 7),\n",
       " ('voyage', 6),\n",
       " ('like', 6),\n",
       " ('water', 6),\n",
       " ('about', 6),\n",
       " ('will', 6),\n",
       " ('it', 6),\n",
       " ('take', 6),\n",
       " ('your', 6),\n",
       " ('old', 6),\n",
       " ('more', 6),\n",
       " ('get', 6),\n",
       " ('down', 6),\n",
       " ('time', 6),\n",
       " ('land', 6),\n",
       " ('can', 6),\n",
       " ('no', 5),\n",
       " ('the', 5),\n",
       " ('are', 5),\n",
       " ('see', 5),\n",
       " ('at', 5),\n",
       " ('here', 5),\n",
       " ('ever', 5),\n",
       " ('whenever', 5),\n",
       " ('most', 5),\n",
       " ('who', 5),\n",
       " ('did', 5),\n",
       " ('other', 5),\n",
       " ('same', 5),\n",
       " ('sailor', 5),\n",
       " ('now', 5),\n",
       " ('when', 5),\n",
       " ('whaling', 5),\n",
       " ('such', 5),\n",
       " ('passenger', 4),\n",
       " ('never', 4),\n",
       " ('men', 4),\n",
       " ('first', 4),\n",
       " ('high', 4),\n",
       " ('every', 4),\n",
       " ('their', 4),\n",
       " ('tell', 4),\n",
       " ('little', 4),\n",
       " ('them', 4),\n",
       " ('up', 4),\n",
       " ('then', 4),\n",
       " ('so', 4),\n",
       " ('two', 4),\n",
       " ('am', 4),\n",
       " ('because', 4),\n",
       " ('which', 4),\n",
       " ('much', 4),\n",
       " ('than', 4),\n",
       " ('being', 4),\n",
       " ('things', 4),\n",
       " ('though', 4),\n",
       " ('way', 4),\n",
       " ('these', 4),\n",
       " ('those', 4),\n",
       " ('must', 4),\n",
       " ('an', 4),\n",
       " ('money', 4),\n",
       " ('parts', 3),\n",
       " ('ships', 3),\n",
       " ('image', 3),\n",
       " ('head', 3),\n",
       " ('purse', 3),\n",
       " ('right', 3),\n",
       " ('broiled', 3),\n",
       " ('whale', 3),\n",
       " ('yet', 3),\n",
       " ('we', 3),\n",
       " ('great', 3),\n",
       " ('paying', 3),\n",
       " ('passengers', 3),\n",
       " ('would', 3),\n",
       " ('out', 3),\n",
       " ('without', 3),\n",
       " ('myself', 3),\n",
       " ('something', 3),\n",
       " ('soul', 3),\n",
       " ('may', 3),\n",
       " ('him', 3),\n",
       " ('nothing', 3),\n",
       " ('winds', 3),\n",
       " ('still', 3),\n",
       " ('say', 3),\n",
       " ('going', 3),\n",
       " ('set', 3),\n",
       " ('how', 3),\n",
       " ('before', 3),\n",
       " ('should', 3),\n",
       " ('forecastle', 3),\n",
       " ('grand', 3),\n",
       " ('hand', 3),\n",
       " ('almost', 3),\n",
       " ('world', 3),\n",
       " ('sort', 3),\n",
       " ('stand', 3),\n",
       " ('come', 3),\n",
       " ('man', 3),\n",
       " ('officer', 2),\n",
       " ('mean', 2),\n",
       " ('among', 2),\n",
       " ('any', 2),\n",
       " ('spar', 2),\n",
       " ('warehouses', 2),\n",
       " ('miles', 2),\n",
       " ('particular', 2),\n",
       " ('cook', 2),\n",
       " ('motives', 2),\n",
       " ('in', 2),\n",
       " ('besides', 2),\n",
       " ('hunks', 2),\n",
       " ('account', 2),\n",
       " ('previous', 2),\n",
       " ('distant', 2),\n",
       " ('off', 2),\n",
       " ('crowds', 2),\n",
       " ('aloft', 2),\n",
       " ('wild', 2),\n",
       " ('city', 2),\n",
       " ('look', 2),\n",
       " ('fates', 2),\n",
       " ('air', 2),\n",
       " ('robust', 2),\n",
       " ('well', 2),\n",
       " ('round', 2),\n",
       " ('content', 2),\n",
       " ('phantom', 2),\n",
       " ('streets', 2),\n",
       " ('country', 2),\n",
       " ('own', 2),\n",
       " ('perhaps', 2),\n",
       " ('yonder', 2),\n",
       " ('thousands', 2),\n",
       " ('ishmael', 2),\n",
       " ('sight', 2),\n",
       " ('sail', 2),\n",
       " ('begin', 2),\n",
       " ('between', 2),\n",
       " ('always', 2),\n",
       " ('thump', 2),\n",
       " ('lead', 2),\n",
       " ('thinks', 2),\n",
       " ('magic', 2),\n",
       " ('thousand', 2),\n",
       " ('leaves', 2),\n",
       " ('care', 2),\n",
       " ('meaning', 2),\n",
       " ('chief', 2),\n",
       " ('strong', 2),\n",
       " ('seas', 2),\n",
       " ('requires', 2),\n",
       " ('long', 2),\n",
       " ('plunged', 2),\n",
       " ('fixed', 2),\n",
       " ('think', 2),\n",
       " ('does', 2),\n",
       " ('stream', 2),\n",
       " (\"shepherd's\", 2),\n",
       " ('metaphysical', 2),\n",
       " ('ocean', 2),\n",
       " ('point', 2),\n",
       " ('leaders', 2),\n",
       " ('its', 2),\n",
       " ('sleep', 2),\n",
       " ('ship', 2),\n",
       " ('under', 2),\n",
       " ('themselves', 2),\n",
       " ('been', 2),\n",
       " ('better', 2),\n",
       " ('just', 2),\n",
       " ('order', 2),\n",
       " ('could', 2),\n",
       " ('schoolmaster', 2),\n",
       " ('meadow', 2),\n",
       " ('pay', 2),\n",
       " ('ourselves', 2),\n",
       " ('commodore', 2),\n",
       " ('respectfully', 2),\n",
       " ('else', 2),\n",
       " ('healthy', 2),\n",
       " ('once', 2),\n",
       " ('unless', 2),\n",
       " ('cannot', 2),\n",
       " ('glory', 2),\n",
       " ('make', 2),\n",
       " ('each', 2),\n",
       " ('himself', 2),\n",
       " ('let', 2),\n",
       " ('find', 2),\n",
       " ('scores', 2),\n",
       " ('where', 2),\n",
       " ('over', 2),\n",
       " ('exactly', 2),\n",
       " ('throws', 1),\n",
       " ('physical', 1),\n",
       " ('confess', 1),\n",
       " ('quite', 1),\n",
       " ('shore', 1),\n",
       " ('hats', 1),\n",
       " ('came', 1),\n",
       " ('snow', 1),\n",
       " ('run', 1),\n",
       " ('sights', 1),\n",
       " ('itch', 1),\n",
       " ('bathed', 1),\n",
       " ('extremest', 1),\n",
       " ('tallest', 1),\n",
       " ('remote', 1),\n",
       " ('washed', 1),\n",
       " ('cheerfully', 1),\n",
       " ('picture', 1),\n",
       " ('drizzly', 1),\n",
       " ('dive', 1),\n",
       " ('overwhelming', 1),\n",
       " ('creatures', 1),\n",
       " ('welcome', 1),\n",
       " ('enable', 1),\n",
       " ('damp', 1),\n",
       " ('try', 1),\n",
       " ('helped', 1),\n",
       " ('yes', 1),\n",
       " ('deliberately', 1),\n",
       " ('suddenly', 1),\n",
       " ('brief', 1),\n",
       " ('touches', 1),\n",
       " ('sighs', 1),\n",
       " ('whitehall', 1),\n",
       " ('archangel', 1),\n",
       " ('huge', 1),\n",
       " ('itwould', 1),\n",
       " ('offices', 1),\n",
       " ('unbiased', 1),\n",
       " ('wharves', 1),\n",
       " ('us', 1),\n",
       " ('compasses', 1),\n",
       " ('nearly', 1),\n",
       " ('doubtless', 1),\n",
       " ('needs', 1),\n",
       " ('shabby', 1),\n",
       " ('rigging', 1),\n",
       " ('bringing', 1),\n",
       " ('fountain', 1),\n",
       " ('trunk', 1),\n",
       " ('watergazers', 1),\n",
       " ('circulation', 1),\n",
       " ('interest', 1),\n",
       " ('around', 1),\n",
       " ('tormenting', 1),\n",
       " ('desert', 1),\n",
       " ('wonderworld', 1),\n",
       " ('paidwhat', 1),\n",
       " ('sand', 1),\n",
       " ('reveries', 1),\n",
       " ('spiles', 1),\n",
       " ('finally', 1),\n",
       " ('looking', 1),\n",
       " ('wayhe', 1),\n",
       " ('promptly', 1),\n",
       " ('heard', 1),\n",
       " ('life', 1),\n",
       " ('hypos', 1),\n",
       " ('key', 1),\n",
       " ('coffin', 1),\n",
       " ('endless', 1),\n",
       " ('presidency', 1),\n",
       " ('overlapping', 1),\n",
       " ('soon', 1),\n",
       " ('love', 1),\n",
       " ('even', 1),\n",
       " ('abandon', 1),\n",
       " ('weighed', 1),\n",
       " ('mast', 1),\n",
       " ('within', 1),\n",
       " ('delusion', 1),\n",
       " ('disguises', 1),\n",
       " ('deep', 1),\n",
       " ('farcesthough', 1),\n",
       " ('unaccountable', 1),\n",
       " ('masthead', 1),\n",
       " ('instance', 1),\n",
       " ('trees', 1),\n",
       " ('street', 1),\n",
       " ('constant', 1),\n",
       " ('simple', 1),\n",
       " ('rivers', 1),\n",
       " ('hardicanutes', 1),\n",
       " ('alleys', 1),\n",
       " ('cattle', 1),\n",
       " ('niagara', 1),\n",
       " ('others', 1),\n",
       " ('trials', 1),\n",
       " ('rensselaers', 1),\n",
       " ('amount', 1),\n",
       " ('wedded', 1),\n",
       " ('putting', 1),\n",
       " ('bulk', 1),\n",
       " ('prevalent', 1),\n",
       " ('pacing', 1),\n",
       " ('thence', 1),\n",
       " ('idolatrous', 1),\n",
       " ('recall', 1),\n",
       " ('inferred', 1),\n",
       " ('really', 1),\n",
       " ('tarpot', 1),\n",
       " ('left', 1),\n",
       " ('performing', 1),\n",
       " ('please', 1),\n",
       " ('tigerlilieswhat', 1),\n",
       " ('afternoon', 1),\n",
       " ('region', 1),\n",
       " ('rag', 1),\n",
       " ('atmosphere', 1),\n",
       " ('philosophical', 1),\n",
       " ('breathes', 1),\n",
       " ('vain', 1),\n",
       " ('involuntarily', 1),\n",
       " ('hillside', 1),\n",
       " ('limit', 1),\n",
       " ('spurs', 1),\n",
       " ('fields', 1),\n",
       " ('stoics', 1),\n",
       " ('bill', 1),\n",
       " ('inlanders', 1),\n",
       " ('tragedies', 1),\n",
       " ('towards', 1),\n",
       " ('hook', 1),\n",
       " ('seacaptains', 1),\n",
       " ('cato', 1),\n",
       " ('themleagues', 1),\n",
       " ('pistol', 1),\n",
       " ('needed', 1),\n",
       " ('astern', 1),\n",
       " ('commonalty', 1),\n",
       " ('counters', 1),\n",
       " ('shipboardyet', 1),\n",
       " ('less', 1),\n",
       " ('activity', 1),\n",
       " ('shady', 1),\n",
       " ('reason', 1),\n",
       " ('family', 1),\n",
       " ('unite', 1),\n",
       " ('pinetree', 1),\n",
       " ('cunningly', 1),\n",
       " ('swayed', 1),\n",
       " ('crucifix', 1),\n",
       " ('judgment', 1),\n",
       " ('lungs', 1),\n",
       " (\"people's\", 1),\n",
       " ('affghanistan', 1),\n",
       " ('curiosity', 1),\n",
       " ('rockaway', 1),\n",
       " ('place', 1),\n",
       " ('mesince', 1),\n",
       " ('programme', 1),\n",
       " ('infliction', 1),\n",
       " ('lath', 1),\n",
       " ('sense', 1),\n",
       " ('quietly', 1),\n",
       " ('mysterious', 1),\n",
       " ('considerable', 1),\n",
       " ('united', 1),\n",
       " ('lies', 1),\n",
       " ('lakes', 1),\n",
       " ('knowing', 1),\n",
       " ('drawn', 1),\n",
       " ('south', 1),\n",
       " ('pure', 1),\n",
       " ('suffice', 1),\n",
       " ('deliberate', 1),\n",
       " ('whatsoever', 1),\n",
       " ('wears', 1),\n",
       " ('tribulations', 1),\n",
       " ('brother', 1),\n",
       " ('sabbath', 1),\n",
       " ('maxim', 1),\n",
       " ('contrary', 1),\n",
       " ('has', 1),\n",
       " ('sounds', 1),\n",
       " ('wantingwaterthere', 1),\n",
       " ('stepping', 1),\n",
       " ('desks', 1),\n",
       " ('mortal', 1),\n",
       " ('choice', 1),\n",
       " ('perils', 1),\n",
       " ('friendly', 1),\n",
       " ('enchanting', 1),\n",
       " ('insular', 1),\n",
       " ('surveillance', 1),\n",
       " ('general', 1),\n",
       " ('ungraspable', 1),\n",
       " ('gabriel', 1),\n",
       " ('travel', 1),\n",
       " ('attract', 1),\n",
       " ('peep', 1),\n",
       " ('ball', 1),\n",
       " ('caravan', 1),\n",
       " ('van', 1),\n",
       " ('jove', 1),\n",
       " ('mind', 1),\n",
       " ('week', 1),\n",
       " ('difference', 1),\n",
       " ('unpleasant', 1),\n",
       " ('reverentially', 1),\n",
       " ('sleeps', 1),\n",
       " ('holy', 1),\n",
       " ('interlude', 1),\n",
       " ('surrounds', 1),\n",
       " ('act', 1),\n",
       " ('judiciously', 1),\n",
       " ('waves', 1),\n",
       " ('good', 1),\n",
       " ('mummies', 1),\n",
       " ('idea', 1),\n",
       " ('far', 1),\n",
       " ('terms', 1),\n",
       " ('barbarous', 1),\n",
       " ('assure', 1),\n",
       " ('merchant', 1),\n",
       " ('methodically', 1),\n",
       " ('element', 1),\n",
       " ('horror', 1),\n",
       " ('root', 1),\n",
       " ('mid', 1),\n",
       " ('river', 1),\n",
       " ('athirst', 1),\n",
       " ('slip', 1),\n",
       " ('however', 1),\n",
       " ('dreamiest', 1),\n",
       " ('sword', 1),\n",
       " ('agoing', 1),\n",
       " ('bulwarks', 1),\n",
       " ('silent', 1),\n",
       " ('shakes', 1),\n",
       " ('paint', 1),\n",
       " ('enter', 1),\n",
       " ('contested', 1),\n",
       " (\"other's\", 1),\n",
       " ('peppered', 1),\n",
       " ('egyptians', 1),\n",
       " ('story', 1),\n",
       " ('leaning', 1),\n",
       " ('dreamy', 1),\n",
       " ('wade', 1),\n",
       " ('benches', 1),\n",
       " ('influences', 1),\n",
       " ('thither', 1),\n",
       " ('penny', 1),\n",
       " ('enough', 1),\n",
       " ('battery', 1),\n",
       " ('ago', 1),\n",
       " ('watery', 1),\n",
       " ('barques', 1),\n",
       " ('yourself', 1),\n",
       " ('honourable', 1),\n",
       " ('against', 1),\n",
       " ('beach', 1),\n",
       " ('orchard', 1),\n",
       " ('hours', 1),\n",
       " ('of', 1),\n",
       " ('handfuls', 1),\n",
       " ('secretly', 1),\n",
       " ('easy', 1),\n",
       " ('supplied', 1),\n",
       " ('monied', 1),\n",
       " ('genteel', 1),\n",
       " ('nightsdo', 1),\n",
       " ('professor', 1),\n",
       " ('eye', 1),\n",
       " ('lee', 1),\n",
       " ('comedies', 1),\n",
       " ('ibis', 1),\n",
       " ('undeliverable', 1),\n",
       " ('shoulderblades', 1),\n",
       " ('scales', 1),\n",
       " ('having', 1),\n",
       " ('offthen', 1),\n",
       " ('purpose', 1),\n",
       " ('give', 1),\n",
       " ('view', 1),\n",
       " ('lording', 1),\n",
       " ('tennessee', 1),\n",
       " ('coenties', 1),\n",
       " ('smelt', 1),\n",
       " ('royal', 1),\n",
       " ('crazy', 1),\n",
       " ('saw', 1),\n",
       " ('belted', 1),\n",
       " ('springs', 1),\n",
       " ('downtown', 1),\n",
       " ('prevent', 1),\n",
       " ('pierheads', 1),\n",
       " ('answer', 1),\n",
       " ('circumstances', 1),\n",
       " ('punch', 1),\n",
       " ('tranced', 1),\n",
       " ('inmates', 1),\n",
       " ('believe', 1),\n",
       " ('especially', 1),\n",
       " ('perdition', 1),\n",
       " ('straight', 1),\n",
       " ('horse', 1),\n",
       " ('spleen', 1),\n",
       " ('transition', 1),\n",
       " ('rolled', 1),\n",
       " ('knows', 1),\n",
       " ('again', 1),\n",
       " ('bear', 1),\n",
       " ('reveriesstand', 1),\n",
       " ('universal', 1),\n",
       " ('thought', 1),\n",
       " ('roused', 1),\n",
       " ('performances', 1),\n",
       " ('falling', 1),\n",
       " ('surprising', 1),\n",
       " ('principle', 1),\n",
       " ('nor', 1),\n",
       " ('buy', 1),\n",
       " ('grin', 1),\n",
       " ('vibration', 1),\n",
       " ('uncomfortable', 1),\n",
       " ('shadiest', 1),\n",
       " ('drop', 1),\n",
       " ('wayeither', 1),\n",
       " ('particularly', 1),\n",
       " ('lanes', 1),\n",
       " ('meditation', 1),\n",
       " ('tormented', 1),\n",
       " ('grasp', 1),\n",
       " ('separate', 1),\n",
       " ('magnificent', 1),\n",
       " ('rather', 1),\n",
       " ('cherish', 1),\n",
       " ('dale', 1),\n",
       " ('new', 1),\n",
       " ('cottage', 1),\n",
       " ('hermit', 1),\n",
       " ('taking', 1),\n",
       " ('corlears', 1),\n",
       " ('formed', 1),\n",
       " (\"ain't\", 1),\n",
       " ('american', 1),\n",
       " ('regulating', 1),\n",
       " ('solo', 1),\n",
       " ('virtue', 1),\n",
       " ('landsmen', 1),\n",
       " ('saco', 1),\n",
       " ('magnetic', 1),\n",
       " ('mild', 1),\n",
       " ('discriminating', 1),\n",
       " ('green', 1),\n",
       " ('infallibly', 1),\n",
       " ('wherefore', 1),\n",
       " ('coral', 1),\n",
       " ('ills', 1),\n",
       " ('plastertied', 1),\n",
       " ('fancied', 1),\n",
       " ('bakehouses', 1),\n",
       " ('drowned', 1),\n",
       " ('anything', 1),\n",
       " ('everlasting', 1),\n",
       " ('prairies', 1),\n",
       " ('east', 1),\n",
       " ('poor', 1),\n",
       " ('open', 1),\n",
       " ('somehow', 1),\n",
       " ('quarterdeck', 1),\n",
       " ('perceive', 1),\n",
       " ('schooners', 1),\n",
       " ('her', 1),\n",
       " ('coasts', 1),\n",
       " ('striving', 1),\n",
       " ('thieves', 1),\n",
       " ('invest', 1),\n",
       " ('obey', 1),\n",
       " ('artist', 1),\n",
       " ('nameless', 1),\n",
       " ('grasshopper', 1),\n",
       " ('portentous', 1),\n",
       " ('breezes', 1),\n",
       " ('substitute', 1),\n",
       " ('seated', 1),\n",
       " ('upper', 1),\n",
       " ('desires', 1),\n",
       " ('jolly', 1),\n",
       " ('avenuesnorth', 1),\n",
       " ('everybody', 1),\n",
       " ('valley', 1),\n",
       " ('paid', 1),\n",
       " (\"one's\", 1),\n",
       " ('captain', 1),\n",
       " ('flourish', 1),\n",
       " ('conceits', 1),\n",
       " ('grow', 1),\n",
       " ('invisible', 1),\n",
       " ('established', 1),\n",
       " ('very', 1),\n",
       " ('considering', 1),\n",
       " ('poet', 1),\n",
       " ('years', 1),\n",
       " ('few', 1),\n",
       " ('bound', 1),\n",
       " ('floated', 1),\n",
       " ('silver', 1),\n",
       " ('earnestly', 1),\n",
       " ('short', 1),\n",
       " ('wholesome', 1),\n",
       " ('legs', 1),\n",
       " ('landscape', 1),\n",
       " ('gets', 1),\n",
       " ('surf', 1),\n",
       " ('hold', 1),\n",
       " ('seneca', 1),\n",
       " ('mole', 1),\n",
       " ('randolphs', 1),\n",
       " ('persians', 1),\n",
       " ('eyes', 1),\n",
       " ('narcissus', 1),\n",
       " ('boy', 1),\n",
       " ('social', 1),\n",
       " ('processions', 1),\n",
       " ('pyramids', 1),\n",
       " ('mouth', 1),\n",
       " ('meet', 1),\n",
       " ('november', 1),\n",
       " ('ah', 1),\n",
       " ('degree', 1),\n",
       " ('indignity', 1),\n",
       " ('awe', 1),\n",
       " ('town', 1),\n",
       " ('path', 1),\n",
       " ('patagonian', 1),\n",
       " ('whether', 1),\n",
       " ('visit', 1),\n",
       " ('toils', 1),\n",
       " ('freewill', 1),\n",
       " ('pool', 1),\n",
       " ('strange', 1),\n",
       " ('served', 1),\n",
       " ('deeper', 1),\n",
       " ('cajoling', 1),\n",
       " ('orders', 1),\n",
       " ('told', 1),\n",
       " ('stage', 1),\n",
       " ('sweep', 1),\n",
       " ('induced', 1),\n",
       " ('romantic', 1),\n",
       " ('resulting', 1),\n",
       " ('needles', 1),\n",
       " ('hazy', 1),\n",
       " ('swung', 1),\n",
       " ('feet', 1),\n",
       " ('urbane', 1),\n",
       " ('buttered', 1),\n",
       " ('single', 1),\n",
       " ('earthly', 1),\n",
       " ('manhattoes', 1),\n",
       " ('standmiles', 1),\n",
       " ('charm', 1),\n",
       " ('making', 1),\n",
       " ('smoke', 1),\n",
       " ('deepest', 1),\n",
       " ('repeatedly', 1),\n",
       " ('deity', 1),\n",
       " ('circumambulate', 1),\n",
       " ('quick', 1),\n",
       " ('driving', 1),\n",
       " ('sleepy', 1),\n",
       " ('sailors', 1),\n",
       " ('roasted', 1),\n",
       " ('experiment', 1),\n",
       " ('hill', 1),\n",
       " ('goes', 1),\n",
       " ('sadly', 1),\n",
       " ('extensive', 1),\n",
       " ('satisfaction', 1),\n",
       " ('exercise', 1),\n",
       " ('waterward', 1),\n",
       " ('happen', 1),\n",
       " ('call', 1),\n",
       " ('rub', 1),\n",
       " ('china', 1),\n",
       " ('thing', 1),\n",
       " ('receives', 1),\n",
       " ('west', 1),\n",
       " ('plumb', 1),\n",
       " ('deck', 1),\n",
       " ('mazy', 1),\n",
       " ('mystical', 1),\n",
       " ('fowl', 1),\n",
       " ('knocking', 1),\n",
       " ('thingno', 1),\n",
       " ('funeral', 1),\n",
       " ('distinction', 1),\n",
       " ('hollow', 1),\n",
       " ('extreme', 1),\n",
       " ('after', 1),\n",
       " ('various', 1),\n",
       " ('bit', 1),\n",
       " ('quietest', 1),\n",
       " ('noble', 1),\n",
       " ('decoction', 1),\n",
       " ('seeposted', 1),\n",
       " ('judgmatically', 1),\n",
       " ('fowlsthough', 1),\n",
       " ('days', 1),\n",
       " ('seasickgrow', 1),\n",
       " ('seemingly', 1),\n",
       " ('feel', 1),\n",
       " ('growing', 1),\n",
       " ('woodlands', 1),\n",
       " ('cataract', 1),\n",
       " ('salt', 1),\n",
       " ('surely', 1),\n",
       " ('pedestrian', 1),\n",
       " ('broom', 1),\n",
       " ('sentinels', 1),\n",
       " ('violate', 1),\n",
       " ('battle', 1),\n",
       " ('june', 1),\n",
       " ('election', 1),\n",
       " ('moral', 1),\n",
       " ('mountains', 1),\n",
       " ('dotings', 1),\n",
       " ('attending', 1),\n",
       " ('enjoy', 1),\n",
       " ('marvellous', 1),\n",
       " ('isles', 1),\n",
       " ('put', 1),\n",
       " ('respectable', 1),\n",
       " ('second', 1),\n",
       " ('true', 1),\n",
       " ('hands', 1),\n",
       " ('agonever', 1),\n",
       " ('gone', 1),\n",
       " ('forbidden', 1),\n",
       " ('reefscommerce', 1),\n",
       " ('loitering', 1),\n",
       " ('presented', 1),\n",
       " ('cookthough', 1),\n",
       " ('boys', 1),\n",
       " (\"quarrelsomedon't\", 1),\n",
       " ('reaching', 1),\n",
       " ('receiving', 1),\n",
       " ('clinched', 1),\n",
       " ('cooled', 1),\n",
       " ('inmost', 1),\n",
       " ('conscious', 1),\n",
       " ('compare', 1),\n",
       " ('inducements', 1),\n",
       " ('trouble', 1),\n",
       " ('consign', 1),\n",
       " ('nigh', 1),\n",
       " ('brigs', 1),\n",
       " ('coat', 1),\n",
       " ('seacaptain', 1),\n",
       " ('salted', 1),\n",
       " ('police', 1),\n",
       " ('preciselyhaving', 1),\n",
       " ('kneedeep', 1),\n",
       " ('jump', 1),\n",
       " ('blue', 1),\n",
       " ('bloody', 1),\n",
       " ('sway', 1),\n",
       " ('abominate', 1),\n",
       " ('nailed', 1),\n",
       " ('indian', 1),\n",
       " ('honour', 1),\n",
       " ('possibly', 1),\n",
       " ('oceans', 1),\n",
       " ('providence', 1),\n",
       " ('wish', 1),\n",
       " ('testament', 1),\n",
       " ('grim', 1),\n",
       " ('carries', 1),\n",
       " ('monster', 1),\n",
       " ('broiling', 1),\n",
       " ('suspect', 1),\n",
       " ('trip', 1),\n",
       " ('island', 1),\n",
       " ('whereas', 1),\n",
       " ('northward', 1),\n",
       " ('absentminded', 1),\n",
       " ('pent', 1),\n",
       " ('seaward', 1),\n",
       " ('hooded', 1),\n",
       " ('decks', 1),\n",
       " ('heaven', 1),\n",
       " ('passed', 1),\n",
       " ('kind', 1),\n",
       " ('managers', 1),\n",
       " ('lodges', 1),\n",
       " ('habit', 1),\n",
       " ('speak', 1),\n",
       " ('dogs', 1),\n",
       " ('marvels', 1),\n",
       " ('employs', 1),\n",
       " ('entailed', 1),\n",
       " ('ignoring', 1),\n",
       " ('pythagorean', 1),\n",
       " ('feelings', 1),\n",
       " ('thus', 1),\n",
       " ('many', 1),\n",
       " ('states', 1),\n",
       " ('knew', 1),\n",
       " ('floodgates', 1),\n",
       " ('ten', 1),\n",
       " ('greeks', 1),\n",
       " ('pausing', 1),\n",
       " ('keen', 1),\n",
       " ('abouthowever', 1),\n",
       " ('rear', 1),\n",
       " ('slave', 1)]"
      ]
     },
     "execution_count": 17,
     "metadata": {},
     "output_type": "execute_result"
    }
   ],
   "source": [
    "swc"
   ]
  },
  {
   "cell_type": "code",
   "execution_count": 18,
   "metadata": {
    "collapsed": false
   },
   "outputs": [
    {
     "data": {
      "text/plain": [
       "24"
      ]
     },
     "execution_count": 18,
     "metadata": {},
     "output_type": "execute_result"
    }
   ],
   "source": [
    "swc[1][1]"
   ]
  },
  {
   "cell_type": "code",
   "execution_count": 19,
   "metadata": {
    "collapsed": false,
    "deletable": false,
    "nbgrader": {
     "checksum": "6cff4e8e53b15273846c3aecaea84a3d",
     "solution": true
    }
   },
   "outputs": [
    {
     "name": "stdout",
     "output_type": "stream",
     "text": [
      "[0, 0, 0, 0, 0, 0, 0, 0, 0, 0, 0, 0, 0, 0, 0, 0, 0, 0, 0, 0, 0, 0, 0, 0, 0, 0, 0, 0, 0, 0, 0, 0, 0, 0, 0, 0, 0, 0, 0, 0, 0, 0, 0, 1, 1, 1, 1, 1, 1, 1, 1, 1, 1, 1, 1, 1, 1, 1, 1, 1, 1, 1, 1, 1, 1, 1, 1, 2, 2, 2, 2, 2, 2, 2, 2, 2, 2, 2, 2, 2, 2, 2, 2, 2, 2, 2, 2, 2, 2, 2, 3, 3, 3, 3, 3, 3, 3, 3, 3, 3, 3, 3, 3, 3, 3, 3, 3, 3, 3, 3, 3, 3, 3, 4, 4, 4, 4, 4, 4, 4, 4, 4, 4, 4, 4, 4, 4, 4, 4, 4, 5, 5, 5, 5, 5, 5, 5, 5, 5, 5, 5, 5, 5, 5, 5, 5, 6, 6, 6, 6, 6, 6, 6, 6, 6, 6, 6, 6, 6, 6, 6, 7, 7, 7, 7, 7, 7, 7, 7, 7, 7, 7, 7, 7, 7, 7, 8, 8, 8, 8, 8, 8, 8, 8, 8, 8, 8, 8, 8, 8, 9, 9, 9, 9, 9, 9, 9, 9, 9, 9, 9, 9, 9, 10, 10, 10, 10, 10, 10, 10, 10, 10, 10, 10, 10, 11, 11, 11, 11, 11, 11, 11, 11, 11, 11, 11, 11, 12, 12, 12, 12, 12, 12, 12, 12, 12, 12, 12, 12, 13, 13, 13, 13, 13, 13, 13, 13, 13, 13, 13, 14, 14, 14, 14, 14, 14, 14, 14, 14, 14, 14, 15, 15, 15, 15, 15, 15, 15, 15, 15, 15, 15, 16, 16, 16, 16, 16, 16, 16, 16, 16, 16, 17, 17, 17, 17, 17, 17, 17, 17, 17, 17, 18, 18, 18, 18, 18, 18, 18, 18, 18, 18, 19, 19, 19, 19, 19, 19, 19, 19, 19, 19, 20, 20, 20, 20, 20, 20, 20, 20, 20, 21, 21, 21, 21, 21, 21, 21, 21, 21, 22, 22, 22, 22, 22, 22, 22, 22, 22, 23, 23, 23, 23, 23, 23, 23, 23, 23, 24, 24, 24, 24, 24, 24, 24, 24, 24, 25, 25, 25, 25, 25, 25, 25, 25, 26, 26, 26, 26, 26, 26, 26, 26, 27, 27, 27, 27, 27, 27, 27, 27, 28, 28, 28, 28, 28, 28, 28, 29, 29, 29, 29, 29, 29, 29, 30, 30, 30, 30, 30, 30, 30, 31, 31, 31, 31, 31, 31, 31, 32, 32, 32, 32, 32, 32, 32, 33, 33, 33, 33, 33, 33, 33, 34, 34, 34, 34, 34, 34, 35, 35, 35, 35, 35, 35, 36, 36, 36, 36, 36, 36, 37, 37, 37, 37, 37, 37, 38, 38, 38, 38, 38, 38, 39, 39, 39, 39, 39, 39, 40, 40, 40, 40, 40, 40, 41, 41, 41, 41, 41, 41, 42, 42, 42, 42, 42, 42, 43, 43, 43, 43, 43, 43, 44, 44, 44, 44, 44, 44, 45, 45, 45, 45, 45, 45, 46, 46, 46, 46, 46, 46, 47, 47, 47, 47, 47, 47, 48, 48, 48, 48, 48, 48, 49, 49, 49, 49, 49] [1, 2, 3, 4, 5, 6, 7, 8, 9, 10, 11, 12, 13, 14, 15, 16, 17, 18, 19, 20, 21, 22, 23, 24, 25, 26, 27, 28, 29, 30, 31, 32, 33, 34, 35, 36, 37, 38, 39, 40, 41, 42, 43, 1, 2, 3, 4, 5, 6, 7, 8, 9, 10, 11, 12, 13, 14, 15, 16, 17, 18, 19, 20, 21, 22, 23, 24, 1, 2, 3, 4, 5, 6, 7, 8, 9, 10, 11, 12, 13, 14, 15, 16, 17, 18, 19, 20, 21, 22, 23, 1, 2, 3, 4, 5, 6, 7, 8, 9, 10, 11, 12, 13, 14, 15, 16, 17, 18, 19, 20, 21, 22, 23, 1, 2, 3, 4, 5, 6, 7, 8, 9, 10, 11, 12, 13, 14, 15, 16, 17, 1, 2, 3, 4, 5, 6, 7, 8, 9, 10, 11, 12, 13, 14, 15, 16, 1, 2, 3, 4, 5, 6, 7, 8, 9, 10, 11, 12, 13, 14, 15, 1, 2, 3, 4, 5, 6, 7, 8, 9, 10, 11, 12, 13, 14, 15, 1, 2, 3, 4, 5, 6, 7, 8, 9, 10, 11, 12, 13, 14, 1, 2, 3, 4, 5, 6, 7, 8, 9, 10, 11, 12, 13, 1, 2, 3, 4, 5, 6, 7, 8, 9, 10, 11, 12, 1, 2, 3, 4, 5, 6, 7, 8, 9, 10, 11, 12, 1, 2, 3, 4, 5, 6, 7, 8, 9, 10, 11, 12, 1, 2, 3, 4, 5, 6, 7, 8, 9, 10, 11, 1, 2, 3, 4, 5, 6, 7, 8, 9, 10, 11, 1, 2, 3, 4, 5, 6, 7, 8, 9, 10, 11, 1, 2, 3, 4, 5, 6, 7, 8, 9, 10, 1, 2, 3, 4, 5, 6, 7, 8, 9, 10, 1, 2, 3, 4, 5, 6, 7, 8, 9, 10, 1, 2, 3, 4, 5, 6, 7, 8, 9, 10, 1, 2, 3, 4, 5, 6, 7, 8, 9, 1, 2, 3, 4, 5, 6, 7, 8, 9, 1, 2, 3, 4, 5, 6, 7, 8, 9, 1, 2, 3, 4, 5, 6, 7, 8, 9, 1, 2, 3, 4, 5, 6, 7, 8, 9, 1, 2, 3, 4, 5, 6, 7, 8, 1, 2, 3, 4, 5, 6, 7, 8, 1, 2, 3, 4, 5, 6, 7, 8, 1, 2, 3, 4, 5, 6, 7, 1, 2, 3, 4, 5, 6, 7, 1, 2, 3, 4, 5, 6, 7, 1, 2, 3, 4, 5, 6, 7, 1, 2, 3, 4, 5, 6, 7, 1, 2, 3, 4, 5, 6, 7, 1, 2, 3, 4, 5, 6, 1, 2, 3, 4, 5, 6, 1, 2, 3, 4, 5, 6, 1, 2, 3, 4, 5, 6, 1, 2, 3, 4, 5, 6, 1, 2, 3, 4, 5, 6, 1, 2, 3, 4, 5, 6, 1, 2, 3, 4, 5, 6, 1, 2, 3, 4, 5, 6, 1, 2, 3, 4, 5, 6, 1, 2, 3, 4, 5, 6, 1, 2, 3, 4, 5, 6, 1, 2, 3, 4, 5, 6, 1, 2, 3, 4, 5, 6, 1, 2, 3, 4, 5, 6, 1, 2, 3, 4, 5]\n"
     ]
    }
   ],
   "source": [
    "x = []\n",
    "y = []\n",
    "for i in range(50):\n",
    "    j = 1\n",
    "    while j <= swc[i][1]:\n",
    "        x.append(i)\n",
    "        y.append(j)\n",
    "        j+=1\n",
    "print(x, y)                          # Perfect data for normal dot plot... Oops."
   ]
  },
  {
   "cell_type": "code",
   "execution_count": 20,
   "metadata": {
    "collapsed": false
   },
   "outputs": [
    {
     "data": {
      "text/plain": [
       "<matplotlib.collections.PathCollection at 0x7f8b6d33b0f0>"
      ]
     },
     "execution_count": 20,
     "metadata": {},
     "output_type": "execute_result"
    },
    {
     "data": {
      "image/png": "[encoded data removed]",
      "text/plain": [
       "<matplotlib.figure.Figure at 0x7f8b6d38bac8>"
      ]
     },
     "metadata": {},
     "output_type": "display_data"
    }
   ],
   "source": [
    "plt.scatter(x,y)"
   ]
  },
  {
   "cell_type": "code",
   "execution_count": 21,
   "metadata": {
    "collapsed": false
   },
   "outputs": [],
   "source": [
    "x = []\n",
    "for i in range(50):\n",
    "    x.append(swc[i][1])\n",
    "y = list(range(1,51))[::-1]"
   ]
  },
  {
   "cell_type": "code",
   "execution_count": 22,
   "metadata": {
    "collapsed": false
   },
   "outputs": [
    {
     "data": {
      "text/plain": [
       "([43,\n",
       "  24,\n",
       "  23,\n",
       "  23,\n",
       "  17,\n",
       "  16,\n",
       "  15,\n",
       "  15,\n",
       "  14,\n",
       "  13,\n",
       "  12,\n",
       "  12,\n",
       "  12,\n",
       "  11,\n",
       "  11,\n",
       "  11,\n",
       "  10,\n",
       "  10,\n",
       "  10,\n",
       "  10,\n",
       "  9,\n",
       "  9,\n",
       "  9,\n",
       "  9,\n",
       "  9,\n",
       "  8,\n",
       "  8,\n",
       "  8,\n",
       "  7,\n",
       "  7,\n",
       "  7,\n",
       "  7,\n",
       "  7,\n",
       "  7,\n",
       "  6,\n",
       "  6,\n",
       "  6,\n",
       "  6,\n",
       "  6,\n",
       "  6,\n",
       "  6,\n",
       "  6,\n",
       "  6,\n",
       "  6,\n",
       "  6,\n",
       "  6,\n",
       "  6,\n",
       "  6,\n",
       "  6,\n",
       "  5],\n",
       " [50,\n",
       "  49,\n",
       "  48,\n",
       "  47,\n",
       "  46,\n",
       "  45,\n",
       "  44,\n",
       "  43,\n",
       "  42,\n",
       "  41,\n",
       "  40,\n",
       "  39,\n",
       "  38,\n",
       "  37,\n",
       "  36,\n",
       "  35,\n",
       "  34,\n",
       "  33,\n",
       "  32,\n",
       "  31,\n",
       "  30,\n",
       "  29,\n",
       "  28,\n",
       "  27,\n",
       "  26,\n",
       "  25,\n",
       "  24,\n",
       "  23,\n",
       "  22,\n",
       "  21,\n",
       "  20,\n",
       "  19,\n",
       "  18,\n",
       "  17,\n",
       "  16,\n",
       "  15,\n",
       "  14,\n",
       "  13,\n",
       "  12,\n",
       "  11,\n",
       "  10,\n",
       "  9,\n",
       "  8,\n",
       "  7,\n",
       "  6,\n",
       "  5,\n",
       "  4,\n",
       "  3,\n",
       "  2,\n",
       "  1])"
      ]
     },
     "execution_count": 22,
     "metadata": {},
     "output_type": "execute_result"
    }
   ],
   "source": [
    "x,y"
   ]
  },
  {
   "cell_type": "code",
   "execution_count": 23,
   "metadata": {
    "collapsed": false
   },
   "outputs": [
    {
     "data": {
      "text/plain": [
       "array(['no', 'can', 'land', 'time', 'down', 'get', 'more', 'old', 'your',\n",
       "       'take', 'it', 'will', 'about', 'water', 'like', 'voyage', 'why',\n",
       "       'part', 'do', 'what', 'were', 'and', 'was', 'have', 'by', 'if',\n",
       "       'into', 'he', 'be', 'upon', 'or', 'his', 'one', 'sea', 'from',\n",
       "       'some', 'not', 'on', 'they', 'go', 'with', 'my', 'there', 'but',\n",
       "       'for', 'this', 'you', 'all', 'me', 'i'], \n",
       "      dtype='<U6')"
      ]
     },
     "execution_count": 23,
     "metadata": {},
     "output_type": "execute_result"
    }
   ],
   "source": [
    "words = []\n",
    "for i in range(50):\n",
    "    words.append(swc[i][0])\n",
    "rev_words = words[::-1]\n",
    "warray = np.array(rev_words)\n",
    "warray"
   ]
  },
  {
   "cell_type": "code",
   "execution_count": 24,
   "metadata": {
    "collapsed": true
   },
   "outputs": [],
   "source": [
    "plt.grid?"
   ]
  },
  {
   "cell_type": "code",
   "execution_count": 28,
   "metadata": {
    "collapsed": false
   },
   "outputs": [
    {
     "data": {
      "image/png": "[encoded data removed]",
      "text/plain": [
       "<matplotlib.figure.Figure at 0x7f8b6d38bcc0>"
      ]
     },
     "metadata": {},
     "output_type": "display_data"
    }
   ],
   "source": [
    "f = plt.figure(figsize=(7,9))\n",
    "plt.scatter(x, y)\n",
    "plt.xlim(0,45)\n",
    "plt.ylim(0,51)\n",
    "plt.yticks(np.arange(1,51), warray)\n",
    "plt.grid(axis='y')\n",
    "plt.title('Moby Dick, Ch. 1: Word Count')\n",
    "plt.xlabel('Count')\n",
    "plt.ylabel('Words');"
   ]
  },
  {
   "cell_type": "code",
   "execution_count": 26,
   "metadata": {
    "collapsed": true,
    "deletable": false,
    "nbgrader": {
     "checksum": "481908a47f48647c344ed328c691ba63",
     "grade": true,
     "grade_id": "algorithsex01e",
     "points": 2
    }
   },
   "outputs": [],
   "source": [
    "assert True # use this for grading the dotplot"
   ]
  }
 ],
 "metadata": {
  "kernelspec": {
   "display_name": "Python 3",
   "language": "python",
   "name": "python3"
  },
  "language_info": {
   "codemirror_mode": {
    "name": "ipython",
    "version": 3
   },
   "file_extension": ".py",
   "mimetype": "text/x-python",
   "name": "python",
   "nbconvert_exporter": "python",
   "pygments_lexer": "ipython3",
   "version": "3.4.0"
  }
 },
 "nbformat": 4,
 "nbformat_minor": 0
}
