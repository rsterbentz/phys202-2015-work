{
 "cells": [
  {
   "cell_type": "markdown",
   "metadata": {
    "nbgrader": {}
   },
   "source": [
    "# Fitting Models Exercise 2"
   ]
  },
  {
   "cell_type": "markdown",
   "metadata": {
    "nbgrader": {}
   },
   "source": [
    "## Imports"
   ]
  },
  {
   "cell_type": "code",
   "execution_count": 4,
   "metadata": {
    "collapsed": false,
    "nbgrader": {}
   },
   "outputs": [],
   "source": [
    "%matplotlib inline\n",
    "import matplotlib.pyplot as plt\n",
    "import numpy as np\n",
    "import scipy.optimize as opt"
   ]
  },
  {
   "cell_type": "markdown",
   "metadata": {
    "nbgrader": {}
   },
   "source": [
    "## Fitting a decaying oscillation"
   ]
  },
  {
   "cell_type": "markdown",
   "metadata": {
    "nbgrader": {}
   },
   "source": [
    "For this problem you are given a raw dataset in the file `decay_osc.npz`. This file contains three arrays:\n",
    "\n",
    "* `tdata`: an array of time values\n",
    "* `ydata`: an array of y values\n",
    "* `dy`: the absolute uncertainties (standard deviations) in y\n",
    "\n",
    "Your job is to fit the following model to this data:\n",
    "\n",
    "$$ y(t) = A e^{-\\lambda t} \\cos{\\omega t + \\delta} $$\n",
    "\n",
    "First, import the data using NumPy and make an appropriately styled error bar plot of the raw data."
   ]
  },
  {
   "cell_type": "code",
   "execution_count": 5,
   "metadata": {
    "collapsed": false,
    "deletable": false,
    "nbgrader": {
     "checksum": "6cff4e8e53b15273846c3aecaea84a3d",
     "solution": true
    }
   },
   "outputs": [],
   "source": [
    "data = np.load('decay_osc.npz')\n",
    "tdata = data['tdata']\n",
    "ydata = data['ydata']\n",
    "dy = data['dy']"
   ]
  },
  {
   "cell_type": "code",
   "execution_count": 6,
   "metadata": {
    "collapsed": false
   },
   "outputs": [
    {
     "data": {
      "image/png": "[encoded data removed]",
      "text/plain": [
       "<matplotlib.figure.Figure at 0x7f8becacf3c8>"
      ]
     },
     "metadata": {},
     "output_type": "display_data"
    }
   ],
   "source": [
    "plt.errorbar(tdata, ydata, dy, fmt='.k', ecolor='grey')\n",
    "plt.xlabel('t')\n",
    "plt.ylabel('y');"
   ]
  },
  {
   "cell_type": "code",
   "execution_count": 7,
   "metadata": {
    "collapsed": true,
    "deletable": false,
    "nbgrader": {
     "checksum": "8fe685c8222cc4b0b71fde4d0409d50f",
     "grade": true,
     "grade_id": "fittingmodelsex02a",
     "points": 5
    }
   },
   "outputs": [],
   "source": [
    "assert True # leave this to grade the data import and raw data plot"
   ]
  },
  {
   "cell_type": "markdown",
   "metadata": {
    "nbgrader": {}
   },
   "source": [
    "Now, using `curve_fit` to fit this model and determine the estimates and uncertainties for the parameters:\n",
    "\n",
    "* Print the parameters estimates and uncertainties.\n",
    "* Plot the raw and best fit model.\n",
    "* You will likely have to pass an initial guess to `curve_fit` to get a good fit.\n",
    "* Treat the uncertainties in $y$ as *absolute errors* by passing `absolute_sigma=True`. "
   ]
  },
  {
   "cell_type": "code",
   "execution_count": 8,
   "metadata": {
    "collapsed": false,
    "deletable": false,
    "nbgrader": {
     "checksum": "6cff4e8e53b15273846c3aecaea84a3d",
     "solution": true
    }
   },
   "outputs": [],
   "source": [
    "def model(t,a,lam,omega,delta):\n",
    "    return a*np.exp(-lam*t)*np.cos(omega*t) + delta"
   ]
  },
  {
   "cell_type": "code",
   "execution_count": 11,
   "metadata": {
    "collapsed": false
   },
   "outputs": [
    {
     "name": "stdout",
     "output_type": "stream",
     "text": [
      "A = -4.896 +/- 0.004\n",
      "lambda = 0.094 +/- 0.000\n",
      "omega = -1.001 +/- 0.000\n",
      "delta = 0.027 +/- 0.000\n"
     ]
    }
   ],
   "source": [
    "theta_best, theta_cov = opt.curve_fit(model, tdata, ydata, p0=[-5,0,-1,0],sigma=dy, absolute_sigma=True)\n",
    "Afit = theta_best[0]\n",
    "lamfit = theta_best[1]\n",
    "omegafit = theta_best[2]\n",
    "deltafit = theta_best[3]\n",
    "print('A = {0:.3f} +/- {1:.3f}'.format(Afit, theta_cov[0,0]))\n",
    "print('lambda = {0:.3f} +/- {1:.3f}'.format(lamfit, theta_cov[1,1]))\n",
    "print('omega = {0:.3f} +/- {1:.3f}'.format(omegafit, theta_cov[2,2]))\n",
    "print('delta = {0:.3f} +/- {1:.3f}'.format(deltafit, theta_cov[3,3]))"
   ]
  },
  {
   "cell_type": "code",
   "execution_count": 10,
   "metadata": {
    "collapsed": false
   },
   "outputs": [
    {
     "data": {
      "image/png": "[encoded data removed]",
      "text/plain": [
       "<matplotlib.figure.Figure at 0x7f8beca78668>"
      ]
     },
     "metadata": {},
     "output_type": "display_data"
    }
   ],
   "source": [
    "tfit = np.linspace(0,20,61)\n",
    "yfit = model(tfit,Afit,lamfit,omegafit,deltafit)\n",
    "\n",
    "plt.errorbar(tdata, ydata, dy, fmt='.k', ecolor='grey')\n",
    "plt.plot(tfit, yfit, 'r-')\n",
    "plt.xlabel('t')\n",
    "plt.ylabel('y');"
   ]
  },
  {
   "cell_type": "code",
   "execution_count": 8,
   "metadata": {
    "collapsed": true,
    "deletable": false,
    "nbgrader": {
     "checksum": "abacc1ad72e3412252e4ed47c8f65897",
     "grade": true,
     "grade_id": "fittingmodelsex02b",
     "points": 5
    }
   },
   "outputs": [],
   "source": [
    "assert True # leave this cell for grading the fit; should include a plot and printout of the parameters+errors"
   ]
  }
 ],
 "metadata": {
  "kernelspec": {
   "display_name": "Python 3",
   "language": "python",
   "name": "python3"
  },
  "language_info": {
   "codemirror_mode": {
    "name": "ipython",
    "version": 3
   },
   "file_extension": ".py",
   "mimetype": "text/x-python",
   "name": "python",
   "nbconvert_exporter": "python",
   "pygments_lexer": "ipython3",
   "version": "3.4.0"
  }
 },
 "nbformat": 4,
 "nbformat_minor": 0
}
