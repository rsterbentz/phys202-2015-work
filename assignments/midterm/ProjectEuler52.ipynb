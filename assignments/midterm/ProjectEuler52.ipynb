{
 "cells": [
  {
   "cell_type": "markdown",
   "metadata": {
    "nbgrader": {}
   },
   "source": [
    "# Project Euler: Problem 52"
   ]
  },
  {
   "cell_type": "markdown",
   "metadata": {
    "nbgrader": {}
   },
   "source": [
    "https://projecteuler.net/problem=52\n",
    "\n",
    "It can be seen that the number, $125874$, and its double, $251748$, contain exactly the same digits, but in a different order.\n",
    "\n",
    "Find the smallest positive integer, $x$, such that $2x$, $3x$, $4x$, $5x$, and $6x$, contain the same digits."
   ]
  },
  {
   "cell_type": "markdown",
   "metadata": {
    "nbgrader": {}
   },
   "source": [
    "First, write a function `same_digits(x,y)` that returns `True` if two integers `x` and `y` have the exact same set of digits and multiplicities and `False` if they have different digits."
   ]
  },
  {
   "cell_type": "code",
   "execution_count": 16,
   "metadata": {
    "collapsed": false,
    "nbgrader": {
     "checksum": "aad5ed41801af39fc06f00c8d275a010",
     "solution": true
    }
   },
   "outputs": [],
   "source": [
    "def same_digits(x, y):\n",
    "    \"\"\"Do the integers x and y have the same digits, regardless of order.\"\"\"\n",
    "    x = str(x)\n",
    "    y = str(y)\n",
    "    if len(x)==len(y):\n",
    "        digx = []\n",
    "        multx = []\n",
    "        for i in range(len(x)):\n",
    "            if x[i] in y:\n",
    "                if not x[i] in digx:\n",
    "                    digx.append(x[i])\n",
    "                    multx.append(1)\n",
    "                elif x[i] in digx:\n",
    "                    for j in range(len(digx)):\n",
    "                        if digx[j]==x[i]:\n",
    "                            multx[j]+=1\n",
    "        digy = []\n",
    "        multy = []\n",
    "        for k in range(len(x)):\n",
    "            if y[k] in x:\n",
    "                if not y[k] in digy:\n",
    "                    digy.append(y[k])\n",
    "                    multy.append(1)\n",
    "                elif y[k] in digy:\n",
    "                    for l in range(len(digy)):\n",
    "                        if digy[l]==y[k]:\n",
    "                            multy[l]+=1\n",
    "                else:\n",
    "                    return False\n",
    "            else:\n",
    "                return False\n",
    "        xx = []\n",
    "        yy = []\n",
    "        for a in range(len(digx)):\n",
    "            xx.append((digx[a],multx[a]))\n",
    "            yy.append((digy[a],multy[a]))\n",
    "        dx = dict(xx)\n",
    "        dy = dict(yy)\n",
    "        if dx==dy:\n",
    "            return True   \n",
    "    else:\n",
    "        return False"
   ]
  },
  {
   "cell_type": "code",
   "execution_count": 17,
   "metadata": {
    "collapsed": false,
    "deletable": false,
    "nbgrader": {
     "checksum": "dd0aff5d565bc794cee175aaa6c0cb3d",
     "grade": true,
     "grade_id": "projecteuler52a",
     "points": 4
    }
   },
   "outputs": [],
   "source": [
    "assert same_digits('132', '321')\n",
    "assert not same_digits('123', '3')\n",
    "assert not same_digits('456', '0987654321')"
   ]
  },
  {
   "cell_type": "markdown",
   "metadata": {
    "nbgrader": {}
   },
   "source": [
    "Now use the `same_digits` function to solve this Euler problem. As you work on this problem, be careful to debug and test your code on small integers before trying it on the full search."
   ]
  },
  {
   "cell_type": "code",
   "execution_count": 29,
   "metadata": {
    "collapsed": false,
    "deletable": false,
    "nbgrader": {
     "checksum": "6cff4e8e53b15273846c3aecaea84a3d",
     "solution": true
    }
   },
   "outputs": [
    {
     "data": {
      "text/plain": [
       "[428571]"
      ]
     },
     "execution_count": 29,
     "metadata": {},
     "output_type": "execute_result"
    }
   ],
   "source": [
    "two = []\n",
    "r = 0\n",
    "while r<1000000:\n",
    "    if same_digits(r, 2*r):\n",
    "        two = [r]\n",
    "        r+=1\n",
    "    else:\n",
    "        r+=1\n",
    "two"
   ]
  },
  {
   "cell_type": "code",
   "execution_count": 31,
   "metadata": {
    "collapsed": false
   },
   "outputs": [
    {
     "data": {
      "text/plain": [
       "[]"
      ]
     },
     "execution_count": 31,
     "metadata": {},
     "output_type": "execute_result"
    }
   ],
   "source": [
    "three = []\n",
    "r = 0\n",
    "while r<100:\n",
    "    if same_digits(r, 3*r):\n",
    "        two = [r]\n",
    "        r+=1\n",
    "    else:\n",
    "        r+=1\n",
    "three"
   ]
  },
  {
   "cell_type": "code",
   "execution_count": null,
   "metadata": {
    "collapsed": true,
    "deletable": false,
    "nbgrader": {
     "checksum": "dafbda681e8fb50925790dc1d0600750",
     "grade": true,
     "grade_id": "projecteuler52b",
     "points": 6
    }
   },
   "outputs": [],
   "source": [
    "assert True # leave this cell to grade the solution"
   ]
  }
 ],
 "metadata": {
  "kernelspec": {
   "display_name": "Python 3",
   "language": "python",
   "name": "python3"
  },
  "language_info": {
   "codemirror_mode": {
    "name": "ipython",
    "version": 3
   },
   "file_extension": ".py",
   "mimetype": "text/x-python",
   "name": "python",
   "nbconvert_exporter": "python",
   "pygments_lexer": "ipython3",
   "version": "3.4.0"
  }
 },
 "nbformat": 4,
 "nbformat_minor": 0
}
