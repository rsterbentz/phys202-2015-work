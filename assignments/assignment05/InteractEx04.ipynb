{
 "cells": [
  {
   "cell_type": "markdown",
   "metadata": {
    "nbgrader": {}
   },
   "source": [
    "# Interact Exercise 4"
   ]
  },
  {
   "cell_type": "markdown",
   "metadata": {
    "nbgrader": {}
   },
   "source": [
    "## Imports"
   ]
  },
  {
   "cell_type": "code",
   "execution_count": 1,
   "metadata": {
    "collapsed": false,
    "nbgrader": {}
   },
   "outputs": [],
   "source": [
    "%matplotlib inline\n",
    "import matplotlib.pyplot as plt\n",
    "import numpy as np"
   ]
  },
  {
   "cell_type": "code",
   "execution_count": 2,
   "metadata": {
    "collapsed": false,
    "nbgrader": {}
   },
   "outputs": [
    {
     "name": "stderr",
     "output_type": "stream",
     "text": [
      ":0: FutureWarning: IPython widgets are experimental and may change in the future.\n"
     ]
    }
   ],
   "source": [
    "from IPython.html.widgets import interact, interactive, fixed\n",
    "from IPython.display import display"
   ]
  },
  {
   "cell_type": "markdown",
   "metadata": {
    "nbgrader": {}
   },
   "source": [
    "## Line with Gaussian noise"
   ]
  },
  {
   "cell_type": "markdown",
   "metadata": {
    "nbgrader": {}
   },
   "source": [
    "Write a function named `random_line` that creates `x` and `y` data for a line with y direction random noise that has a normal distribution $N(0,\\sigma^2)$:\n",
    "\n",
    "$$\n",
    "y = m x + b + N(0,\\sigma^2)\n",
    "$$\n",
    "\n",
    "Be careful about the `sigma=0.0` case."
   ]
  },
  {
   "cell_type": "code",
   "execution_count": 3,
   "metadata": {
    "collapsed": false,
    "nbgrader": {
     "checksum": "f1fccd14526477d1457886a737404055",
     "solution": true
    }
   },
   "outputs": [],
   "source": [
    "def random_line(m, b, sigma, size=10):\n",
    "    \"\"\"Create a line y = m*x + b + N(0,sigma**2) between x=[-1.0,1.0]\n",
    "    \n",
    "    Parameters\n",
    "    ----------\n",
    "    m : float\n",
    "        The slope of the line.\n",
    "    b : float\n",
    "        The y-intercept of the line.\n",
    "    sigma : float\n",
    "        The standard deviation of the y direction normal distribution noise.\n",
    "    size : int\n",
    "        The number of points to create for the line.\n",
    "    \n",
    "    Returns\n",
    "    -------\n",
    "    x : array of floats\n",
    "        The array of x values for the line with `size` points.\n",
    "    y : array of floats\n",
    "        The array of y values for the lines with `size` points.\n",
    "    \"\"\"\n",
    "    \n",
    "    x = np.linspace(-1.0,1.0,size)\n",
    "    def N(mu, sigma):\n",
    "        if sigma == 0:\n",
    "            N = 0\n",
    "        else:\n",
    "            N = np.exp(-1*((x-mu)**2)/(2*(sigma**2)))/(sigma*((2*np.pi)**0.5))\n",
    "        return N\n",
    "    y = m*x + b + N(0,sigma)\n",
    "    return x, y"
   ]
  },
  {
   "cell_type": "code",
   "execution_count": 4,
   "metadata": {
    "collapsed": false
   },
   "outputs": [
    {
     "data": {
      "text/plain": [
       "(array([-1.        , -0.99599198, -0.99198397, -0.98797595, -0.98396794,\n",
       "        -0.97995992, -0.9759519 , -0.97194389, -0.96793587, -0.96392786,\n",
       "        -0.95991984, -0.95591182, -0.95190381, -0.94789579, -0.94388778,\n",
       "        -0.93987976, -0.93587174, -0.93186373, -0.92785571, -0.9238477 ,\n",
       "        -0.91983968, -0.91583166, -0.91182365, -0.90781563, -0.90380762,\n",
       "        -0.8997996 , -0.89579158, -0.89178357, -0.88777555, -0.88376754,\n",
       "        -0.87975952, -0.8757515 , -0.87174349, -0.86773547, -0.86372745,\n",
       "        -0.85971944, -0.85571142, -0.85170341, -0.84769539, -0.84368737,\n",
       "        -0.83967936, -0.83567134, -0.83166333, -0.82765531, -0.82364729,\n",
       "        -0.81963928, -0.81563126, -0.81162325, -0.80761523, -0.80360721,\n",
       "        -0.7995992 , -0.79559118, -0.79158317, -0.78757515, -0.78356713,\n",
       "        -0.77955912, -0.7755511 , -0.77154309, -0.76753507, -0.76352705,\n",
       "        -0.75951904, -0.75551102, -0.75150301, -0.74749499, -0.74348697,\n",
       "        -0.73947896, -0.73547094, -0.73146293, -0.72745491, -0.72344689,\n",
       "        -0.71943888, -0.71543086, -0.71142285, -0.70741483, -0.70340681,\n",
       "        -0.6993988 , -0.69539078, -0.69138277, -0.68737475, -0.68336673,\n",
       "        -0.67935872, -0.6753507 , -0.67134269, -0.66733467, -0.66332665,\n",
       "        -0.65931864, -0.65531062, -0.65130261, -0.64729459, -0.64328657,\n",
       "        -0.63927856, -0.63527054, -0.63126253, -0.62725451, -0.62324649,\n",
       "        -0.61923848, -0.61523046, -0.61122244, -0.60721443, -0.60320641,\n",
       "        -0.5991984 , -0.59519038, -0.59118236, -0.58717435, -0.58316633,\n",
       "        -0.57915832, -0.5751503 , -0.57114228, -0.56713427, -0.56312625,\n",
       "        -0.55911824, -0.55511022, -0.5511022 , -0.54709419, -0.54308617,\n",
       "        -0.53907816, -0.53507014, -0.53106212, -0.52705411, -0.52304609,\n",
       "        -0.51903808, -0.51503006, -0.51102204, -0.50701403, -0.50300601,\n",
       "        -0.498998  , -0.49498998, -0.49098196, -0.48697395, -0.48296593,\n",
       "        -0.47895792, -0.4749499 , -0.47094188, -0.46693387, -0.46292585,\n",
       "        -0.45891784, -0.45490982, -0.4509018 , -0.44689379, -0.44288577,\n",
       "        -0.43887776, -0.43486974, -0.43086172, -0.42685371, -0.42284569,\n",
       "        -0.41883768, -0.41482966, -0.41082164, -0.40681363, -0.40280561,\n",
       "        -0.3987976 , -0.39478958, -0.39078156, -0.38677355, -0.38276553,\n",
       "        -0.37875752, -0.3747495 , -0.37074148, -0.36673347, -0.36272545,\n",
       "        -0.35871743, -0.35470942, -0.3507014 , -0.34669339, -0.34268537,\n",
       "        -0.33867735, -0.33466934, -0.33066132, -0.32665331, -0.32264529,\n",
       "        -0.31863727, -0.31462926, -0.31062124, -0.30661323, -0.30260521,\n",
       "        -0.29859719, -0.29458918, -0.29058116, -0.28657315, -0.28256513,\n",
       "        -0.27855711, -0.2745491 , -0.27054108, -0.26653307, -0.26252505,\n",
       "        -0.25851703, -0.25450902, -0.250501  , -0.24649299, -0.24248497,\n",
       "        -0.23847695, -0.23446894, -0.23046092, -0.22645291, -0.22244489,\n",
       "        -0.21843687, -0.21442886, -0.21042084, -0.20641283, -0.20240481,\n",
       "        -0.19839679, -0.19438878, -0.19038076, -0.18637275, -0.18236473,\n",
       "        -0.17835671, -0.1743487 , -0.17034068, -0.16633267, -0.16232465,\n",
       "        -0.15831663, -0.15430862, -0.1503006 , -0.14629259, -0.14228457,\n",
       "        -0.13827655, -0.13426854, -0.13026052, -0.12625251, -0.12224449,\n",
       "        -0.11823647, -0.11422846, -0.11022044, -0.10621242, -0.10220441,\n",
       "        -0.09819639, -0.09418838, -0.09018036, -0.08617234, -0.08216433,\n",
       "        -0.07815631, -0.0741483 , -0.07014028, -0.06613226, -0.06212425,\n",
       "        -0.05811623, -0.05410822, -0.0501002 , -0.04609218, -0.04208417,\n",
       "        -0.03807615, -0.03406814, -0.03006012, -0.0260521 , -0.02204409,\n",
       "        -0.01803607, -0.01402806, -0.01002004, -0.00601202, -0.00200401,\n",
       "         0.00200401,  0.00601202,  0.01002004,  0.01402806,  0.01803607,\n",
       "         0.02204409,  0.0260521 ,  0.03006012,  0.03406814,  0.03807615,\n",
       "         0.04208417,  0.04609218,  0.0501002 ,  0.05410822,  0.05811623,\n",
       "         0.06212425,  0.06613226,  0.07014028,  0.0741483 ,  0.07815631,\n",
       "         0.08216433,  0.08617234,  0.09018036,  0.09418838,  0.09819639,\n",
       "         0.10220441,  0.10621242,  0.11022044,  0.11422846,  0.11823647,\n",
       "         0.12224449,  0.12625251,  0.13026052,  0.13426854,  0.13827655,\n",
       "         0.14228457,  0.14629259,  0.1503006 ,  0.15430862,  0.15831663,\n",
       "         0.16232465,  0.16633267,  0.17034068,  0.1743487 ,  0.17835671,\n",
       "         0.18236473,  0.18637275,  0.19038076,  0.19438878,  0.19839679,\n",
       "         0.20240481,  0.20641283,  0.21042084,  0.21442886,  0.21843687,\n",
       "         0.22244489,  0.22645291,  0.23046092,  0.23446894,  0.23847695,\n",
       "         0.24248497,  0.24649299,  0.250501  ,  0.25450902,  0.25851703,\n",
       "         0.26252505,  0.26653307,  0.27054108,  0.2745491 ,  0.27855711,\n",
       "         0.28256513,  0.28657315,  0.29058116,  0.29458918,  0.29859719,\n",
       "         0.30260521,  0.30661323,  0.31062124,  0.31462926,  0.31863727,\n",
       "         0.32264529,  0.32665331,  0.33066132,  0.33466934,  0.33867735,\n",
       "         0.34268537,  0.34669339,  0.3507014 ,  0.35470942,  0.35871743,\n",
       "         0.36272545,  0.36673347,  0.37074148,  0.3747495 ,  0.37875752,\n",
       "         0.38276553,  0.38677355,  0.39078156,  0.39478958,  0.3987976 ,\n",
       "         0.40280561,  0.40681363,  0.41082164,  0.41482966,  0.41883768,\n",
       "         0.42284569,  0.42685371,  0.43086172,  0.43486974,  0.43887776,\n",
       "         0.44288577,  0.44689379,  0.4509018 ,  0.45490982,  0.45891784,\n",
       "         0.46292585,  0.46693387,  0.47094188,  0.4749499 ,  0.47895792,\n",
       "         0.48296593,  0.48697395,  0.49098196,  0.49498998,  0.498998  ,\n",
       "         0.50300601,  0.50701403,  0.51102204,  0.51503006,  0.51903808,\n",
       "         0.52304609,  0.52705411,  0.53106212,  0.53507014,  0.53907816,\n",
       "         0.54308617,  0.54709419,  0.5511022 ,  0.55511022,  0.55911824,\n",
       "         0.56312625,  0.56713427,  0.57114228,  0.5751503 ,  0.57915832,\n",
       "         0.58316633,  0.58717435,  0.59118236,  0.59519038,  0.5991984 ,\n",
       "         0.60320641,  0.60721443,  0.61122244,  0.61523046,  0.61923848,\n",
       "         0.62324649,  0.62725451,  0.63126253,  0.63527054,  0.63927856,\n",
       "         0.64328657,  0.64729459,  0.65130261,  0.65531062,  0.65931864,\n",
       "         0.66332665,  0.66733467,  0.67134269,  0.6753507 ,  0.67935872,\n",
       "         0.68336673,  0.68737475,  0.69138277,  0.69539078,  0.6993988 ,\n",
       "         0.70340681,  0.70741483,  0.71142285,  0.71543086,  0.71943888,\n",
       "         0.72344689,  0.72745491,  0.73146293,  0.73547094,  0.73947896,\n",
       "         0.74348697,  0.74749499,  0.75150301,  0.75551102,  0.75951904,\n",
       "         0.76352705,  0.76753507,  0.77154309,  0.7755511 ,  0.77955912,\n",
       "         0.78356713,  0.78757515,  0.79158317,  0.79559118,  0.7995992 ,\n",
       "         0.80360721,  0.80761523,  0.81162325,  0.81563126,  0.81963928,\n",
       "         0.82364729,  0.82765531,  0.83166333,  0.83567134,  0.83967936,\n",
       "         0.84368737,  0.84769539,  0.85170341,  0.85571142,  0.85971944,\n",
       "         0.86372745,  0.86773547,  0.87174349,  0.8757515 ,  0.87975952,\n",
       "         0.88376754,  0.88777555,  0.89178357,  0.89579158,  0.8997996 ,\n",
       "         0.90380762,  0.90781563,  0.91182365,  0.91583166,  0.91983968,\n",
       "         0.9238477 ,  0.92785571,  0.93186373,  0.93587174,  0.93987976,\n",
       "         0.94388778,  0.94789579,  0.95190381,  0.95591182,  0.95991984,\n",
       "         0.96392786,  0.96793587,  0.97194389,  0.9759519 ,  0.97995992,\n",
       "         0.98396794,  0.98797595,  0.99198397,  0.99599198,  1.        ]),\n",
       " array([ 0.24197072,  0.24294054,  0.24391033,  0.24488005,  0.24584968,\n",
       "         0.24681918,  0.24778853,  0.24875769,  0.24972663,  0.25069531,\n",
       "         0.25166371,  0.25263179,  0.25359952,  0.25456686,  0.2555338 ,\n",
       "         0.25650028,  0.25746629,  0.25843178,  0.25939672,  0.26036109,\n",
       "         0.26132484,  0.26228795,  0.26325037,  0.26421209,  0.26517305,\n",
       "         0.26613324,  0.26709261,  0.26805114,  0.26900878,  0.26996551,\n",
       "         0.27092129,  0.27187609,  0.27282986,  0.27378259,  0.27473423,\n",
       "         0.27568475,  0.27663411,  0.27758228,  0.27852923,  0.27947492,\n",
       "         0.28041931,  0.28136238,  0.28230408,  0.28324439,  0.28418326,\n",
       "         0.28512066,  0.28605656,  0.28699093,  0.28792371,  0.28885489,\n",
       "         0.28978443,  0.29071229,  0.29163843,  0.29256283,  0.29348544,\n",
       "         0.29440623,  0.29532516,  0.2962422 ,  0.29715732,  0.29807048,\n",
       "         0.29898164,  0.29989077,  0.30079783,  0.30170278,  0.3026056 ,\n",
       "         0.30350624,  0.30440468,  0.30530087,  0.30619478,  0.30708637,\n",
       "         0.30797561,  0.30886247,  0.3097469 ,  0.31062888,  0.31150836,\n",
       "         0.31238531,  0.31325971,  0.3141315 ,  0.31500066,  0.31586715,\n",
       "         0.31673093,  0.31759197,  0.31845024,  0.3193057 ,  0.32015832,\n",
       "         0.32100805,  0.32185487,  0.32269874,  0.32353963,  0.32437749,\n",
       "         0.3252123 ,  0.32604402,  0.32687262,  0.32769806,  0.32852031,\n",
       "         0.32933932,  0.33015508,  0.33096754,  0.33177667,  0.33258244,\n",
       "         0.3333848 ,  0.33418374,  0.3349792 ,  0.33577117,  0.3365596 ,\n",
       "         0.33734447,  0.33812573,  0.33890336,  0.33967732,  0.34044758,\n",
       "         0.3412141 ,  0.34197686,  0.34273581,  0.34349093,  0.34424219,\n",
       "         0.34498955,  0.34573297,  0.34647243,  0.3472079 ,  0.34793933,\n",
       "         0.34866671,  0.34939   ,  0.35010916,  0.35082416,  0.35153498,\n",
       "         0.35224158,  0.35294393,  0.353642  ,  0.35433576,  0.35502517,\n",
       "         0.35571022,  0.35639086,  0.35706706,  0.35773881,  0.35840605,\n",
       "         0.35906878,  0.35972695,  0.36038054,  0.36102952,  0.36167385,\n",
       "         0.36231352,  0.36294848,  0.36357872,  0.3642042 ,  0.3648249 ,\n",
       "         0.36544078,  0.36605183,  0.366658  ,  0.36725928,  0.36785564,\n",
       "         0.36844704,  0.36903347,  0.36961489,  0.37019128,  0.37076262,\n",
       "         0.37132887,  0.37189002,  0.37244602,  0.37299687,  0.37354253,\n",
       "         0.37408298,  0.37461819,  0.37514815,  0.37567282,  0.37619217,\n",
       "         0.3767062 ,  0.37721487,  0.37771815,  0.37821604,  0.37870849,\n",
       "         0.37919549,  0.37967703,  0.38015306,  0.38062358,  0.38108856,\n",
       "         0.38154798,  0.38200181,  0.38245004,  0.38289265,  0.38332961,\n",
       "         0.3837609 ,  0.38418651,  0.38460641,  0.38502059,  0.38542902,\n",
       "         0.38583168,  0.38622856,  0.38661964,  0.3870049 ,  0.38738432,\n",
       "         0.38775788,  0.38812556,  0.38848736,  0.38884324,  0.3891932 ,\n",
       "         0.38953722,  0.38987527,  0.39020736,  0.39053345,  0.39085353,\n",
       "         0.3911676 ,  0.39147562,  0.3917776 ,  0.39207351,  0.39236334,\n",
       "         0.39264708,  0.39292471,  0.39319622,  0.3934616 ,  0.39372083,\n",
       "         0.3939739 ,  0.3942208 ,  0.39446153,  0.39469605,  0.39492438,\n",
       "         0.39514648,  0.39536237,  0.39557201,  0.39577541,  0.39597255,\n",
       "         0.39616342,  0.39634802,  0.39652634,  0.39669837,  0.39686409,\n",
       "         0.3970235 ,  0.3971766 ,  0.39732338,  0.39746382,  0.39759793,\n",
       "         0.39772569,  0.3978471 ,  0.39796216,  0.39807085,  0.39817318,\n",
       "         0.39826914,  0.39835872,  0.39844192,  0.39851873,  0.39858916,\n",
       "         0.39865319,  0.39871083,  0.39876208,  0.39880692,  0.39884536,\n",
       "         0.3988774 ,  0.39890303,  0.39892225,  0.39893507,  0.39894148,\n",
       "         0.39894148,  0.39893507,  0.39892225,  0.39890303,  0.3988774 ,\n",
       "         0.39884536,  0.39880692,  0.39876208,  0.39871083,  0.39865319,\n",
       "         0.39858916,  0.39851873,  0.39844192,  0.39835872,  0.39826914,\n",
       "         0.39817318,  0.39807085,  0.39796216,  0.3978471 ,  0.39772569,\n",
       "         0.39759793,  0.39746382,  0.39732338,  0.3971766 ,  0.3970235 ,\n",
       "         0.39686409,  0.39669837,  0.39652634,  0.39634802,  0.39616342,\n",
       "         0.39597255,  0.39577541,  0.39557201,  0.39536237,  0.39514648,\n",
       "         0.39492438,  0.39469605,  0.39446153,  0.3942208 ,  0.3939739 ,\n",
       "         0.39372083,  0.3934616 ,  0.39319622,  0.39292471,  0.39264708,\n",
       "         0.39236334,  0.39207351,  0.3917776 ,  0.39147562,  0.3911676 ,\n",
       "         0.39085353,  0.39053345,  0.39020736,  0.38987527,  0.38953722,\n",
       "         0.3891932 ,  0.38884324,  0.38848736,  0.38812556,  0.38775788,\n",
       "         0.38738432,  0.3870049 ,  0.38661964,  0.38622856,  0.38583168,\n",
       "         0.38542902,  0.38502059,  0.38460641,  0.38418651,  0.3837609 ,\n",
       "         0.38332961,  0.38289265,  0.38245004,  0.38200181,  0.38154798,\n",
       "         0.38108856,  0.38062358,  0.38015306,  0.37967703,  0.37919549,\n",
       "         0.37870849,  0.37821604,  0.37771815,  0.37721487,  0.3767062 ,\n",
       "         0.37619217,  0.37567282,  0.37514815,  0.37461819,  0.37408298,\n",
       "         0.37354253,  0.37299687,  0.37244602,  0.37189002,  0.37132887,\n",
       "         0.37076262,  0.37019128,  0.36961489,  0.36903347,  0.36844704,\n",
       "         0.36785564,  0.36725928,  0.366658  ,  0.36605183,  0.36544078,\n",
       "         0.3648249 ,  0.3642042 ,  0.36357872,  0.36294848,  0.36231352,\n",
       "         0.36167385,  0.36102952,  0.36038054,  0.35972695,  0.35906878,\n",
       "         0.35840605,  0.35773881,  0.35706706,  0.35639086,  0.35571022,\n",
       "         0.35502517,  0.35433576,  0.353642  ,  0.35294393,  0.35224158,\n",
       "         0.35153498,  0.35082416,  0.35010916,  0.34939   ,  0.34866671,\n",
       "         0.34793933,  0.3472079 ,  0.34647243,  0.34573297,  0.34498955,\n",
       "         0.34424219,  0.34349093,  0.34273581,  0.34197686,  0.3412141 ,\n",
       "         0.34044758,  0.33967732,  0.33890336,  0.33812573,  0.33734447,\n",
       "         0.3365596 ,  0.33577117,  0.3349792 ,  0.33418374,  0.3333848 ,\n",
       "         0.33258244,  0.33177667,  0.33096754,  0.33015508,  0.32933932,\n",
       "         0.32852031,  0.32769806,  0.32687262,  0.32604402,  0.3252123 ,\n",
       "         0.32437749,  0.32353963,  0.32269874,  0.32185487,  0.32100805,\n",
       "         0.32015832,  0.3193057 ,  0.31845024,  0.31759197,  0.31673093,\n",
       "         0.31586715,  0.31500066,  0.3141315 ,  0.31325971,  0.31238531,\n",
       "         0.31150836,  0.31062888,  0.3097469 ,  0.30886247,  0.30797561,\n",
       "         0.30708637,  0.30619478,  0.30530087,  0.30440468,  0.30350624,\n",
       "         0.3026056 ,  0.30170278,  0.30079783,  0.29989077,  0.29898164,\n",
       "         0.29807048,  0.29715732,  0.2962422 ,  0.29532516,  0.29440623,\n",
       "         0.29348544,  0.29256283,  0.29163843,  0.29071229,  0.28978443,\n",
       "         0.28885489,  0.28792371,  0.28699093,  0.28605656,  0.28512066,\n",
       "         0.28418326,  0.28324439,  0.28230408,  0.28136238,  0.28041931,\n",
       "         0.27947492,  0.27852923,  0.27758228,  0.27663411,  0.27568475,\n",
       "         0.27473423,  0.27378259,  0.27282986,  0.27187609,  0.27092129,\n",
       "         0.26996551,  0.26900878,  0.26805114,  0.26709261,  0.26613324,\n",
       "         0.26517305,  0.26421209,  0.26325037,  0.26228795,  0.26132484,\n",
       "         0.26036109,  0.25939672,  0.25843178,  0.25746629,  0.25650028,\n",
       "         0.2555338 ,  0.25456686,  0.25359952,  0.25263179,  0.25166371,\n",
       "         0.25069531,  0.24972663,  0.24875769,  0.24778853,  0.24681918,\n",
       "         0.24584968,  0.24488005,  0.24391033,  0.24294054,  0.24197072]))"
      ]
     },
     "execution_count": 4,
     "metadata": {},
     "output_type": "execute_result"
    }
   ],
   "source": [
    "random_line(0.0,0.0,1.0,500)"
   ]
  },
  {
   "cell_type": "code",
   "execution_count": 5,
   "metadata": {
    "collapsed": false,
    "deletable": false,
    "nbgrader": {
     "checksum": "085b717fea11f553f5549a88b1090e24",
     "grade": true,
     "grade_id": "interactex04a",
     "points": 2
    }
   },
   "outputs": [
    {
     "ename": "AssertionError",
     "evalue": "",
     "output_type": "error",
     "traceback": [
      "\u001b[1;31m---------------------------------------------------------------------------\u001b[0m",
      "\u001b[1;31mAssertionError\u001b[0m                            Traceback (most recent call last)",
      "\u001b[1;32m<ipython-input-5-dce728037167>\u001b[0m in \u001b[0;36m<module>\u001b[1;34m()\u001b[0m\n\u001b[0;32m      8\u001b[0m \u001b[0msize\u001b[0m \u001b[1;33m=\u001b[0m \u001b[1;36m500\u001b[0m\u001b[1;33m\u001b[0m\u001b[0m\n\u001b[0;32m      9\u001b[0m \u001b[0mx\u001b[0m\u001b[1;33m,\u001b[0m \u001b[0my\u001b[0m \u001b[1;33m=\u001b[0m \u001b[0mrandom_line\u001b[0m\u001b[1;33m(\u001b[0m\u001b[0mm\u001b[0m\u001b[1;33m,\u001b[0m \u001b[0mb\u001b[0m\u001b[1;33m,\u001b[0m \u001b[0msigma\u001b[0m\u001b[1;33m,\u001b[0m \u001b[0msize\u001b[0m\u001b[1;33m)\u001b[0m\u001b[1;33m\u001b[0m\u001b[0m\n\u001b[1;32m---> 10\u001b[1;33m \u001b[1;32massert\u001b[0m \u001b[0mnp\u001b[0m\u001b[1;33m.\u001b[0m\u001b[0mallclose\u001b[0m\u001b[1;33m(\u001b[0m\u001b[0mnp\u001b[0m\u001b[1;33m.\u001b[0m\u001b[0mmean\u001b[0m\u001b[1;33m(\u001b[0m\u001b[0my\u001b[0m\u001b[1;33m-\u001b[0m\u001b[0mm\u001b[0m\u001b[1;33m*\u001b[0m\u001b[0mx\u001b[0m\u001b[1;33m-\u001b[0m\u001b[0mb\u001b[0m\u001b[1;33m)\u001b[0m\u001b[1;33m,\u001b[0m \u001b[1;36m0.0\u001b[0m\u001b[1;33m,\u001b[0m \u001b[0mrtol\u001b[0m\u001b[1;33m=\u001b[0m\u001b[1;36m0.1\u001b[0m\u001b[1;33m,\u001b[0m \u001b[0matol\u001b[0m\u001b[1;33m=\u001b[0m\u001b[1;36m0.1\u001b[0m\u001b[1;33m)\u001b[0m\u001b[1;33m\u001b[0m\u001b[0m\n\u001b[0m\u001b[0;32m     11\u001b[0m \u001b[1;32massert\u001b[0m \u001b[0mnp\u001b[0m\u001b[1;33m.\u001b[0m\u001b[0mallclose\u001b[0m\u001b[1;33m(\u001b[0m\u001b[0mnp\u001b[0m\u001b[1;33m.\u001b[0m\u001b[0mstd\u001b[0m\u001b[1;33m(\u001b[0m\u001b[0my\u001b[0m\u001b[1;33m-\u001b[0m\u001b[0mm\u001b[0m\u001b[1;33m*\u001b[0m\u001b[0mx\u001b[0m\u001b[1;33m-\u001b[0m\u001b[0mb\u001b[0m\u001b[1;33m)\u001b[0m\u001b[1;33m,\u001b[0m \u001b[0msigma\u001b[0m\u001b[1;33m,\u001b[0m \u001b[0mrtol\u001b[0m\u001b[1;33m=\u001b[0m\u001b[1;36m0.1\u001b[0m\u001b[1;33m,\u001b[0m \u001b[0matol\u001b[0m\u001b[1;33m=\u001b[0m\u001b[1;36m0.1\u001b[0m\u001b[1;33m)\u001b[0m\u001b[1;33m\u001b[0m\u001b[0m\n",
      "\u001b[1;31mAssertionError\u001b[0m: "
     ]
    }
   ],
   "source": [
    "m = 0.0; b = 1.0; sigma=0.0; size=3\n",
    "x, y = random_line(m, b, sigma, size)\n",
    "assert len(x)==len(y)==size\n",
    "assert list(x)==[-1.0,0.0,1.0]\n",
    "assert list(y)==[1.0,1.0,1.0]\n",
    "sigma = 1.0\n",
    "m = 0.0; b = 0.0\n",
    "size = 500\n",
    "x, y = random_line(m, b, sigma, size)\n",
    "assert np.allclose(np.mean(y-m*x-b), 0.0, rtol=0.1, atol=0.1)\n",
    "assert np.allclose(np.std(y-m*x-b), sigma, rtol=0.1, atol=0.1)"
   ]
  },
  {
   "cell_type": "markdown",
   "metadata": {
    "nbgrader": {}
   },
   "source": [
    "Write a function named `plot_random_line` that takes the same arguments as `random_line` and creates a random line using `random_line` and then plots the `x` and `y` points using Matplotlib's `scatter` function:\n",
    "\n",
    "* Make the marker color settable through a `color` keyword argument with a default of `red`.\n",
    "* Display the range $x=[-1.1,1.1]$ and $y=[-10.0,10.0]$.\n",
    "* Customize your plot to make it effective and beautiful."
   ]
  },
  {
   "cell_type": "code",
   "execution_count": 6,
   "metadata": {
    "collapsed": true,
    "nbgrader": {}
   },
   "outputs": [],
   "source": [
    "def ticks_out(ax):\n",
    "    \"\"\"Move the ticks to the outside of the box.\"\"\"\n",
    "    ax.get_xaxis().set_tick_params(direction='out', width=1, which='both')\n",
    "    ax.get_yaxis().set_tick_params(direction='out', width=1, which='both')"
   ]
  },
  {
   "cell_type": "code",
   "execution_count": 7,
   "metadata": {
    "collapsed": false,
    "nbgrader": {
     "checksum": "701a9529400e32449715b0090b912d11",
     "solution": true
    }
   },
   "outputs": [],
   "source": [
    "def plot_random_line(m, b, sigma, size=10, color='red'):\n",
    "    \"\"\"Plot a random line with slope m, intercept b and size points.\"\"\"\n",
    "    x, y = random_line(m, b, sigma, size)\n",
    "    plt.scatter(x,y,color=color)\n",
    "    plt.xlim(min(x),max(x))\n",
    "    plt.ylim(min(y),max(y))\n",
    "    plt.tick_params(direction='out', width=1, which='both')"
   ]
  },
  {
   "cell_type": "code",
   "execution_count": 8,
   "metadata": {
    "collapsed": false,
    "nbgrader": {
     "solution": false
    }
   },
   "outputs": [
    {
     "data": {
      "image/png": "[encoded data removed]",
      "text/plain": [
       "<matplotlib.figure.Figure at 0x7f84e4264e48>"
      ]
     },
     "metadata": {},
     "output_type": "display_data"
    }
   ],
   "source": [
    "plot_random_line(5.0, -1.0, 2.0, 50)"
   ]
  },
  {
   "cell_type": "code",
   "execution_count": 9,
   "metadata": {
    "collapsed": true,
    "deletable": false,
    "nbgrader": {
     "checksum": "b079fa9a413c8bc761692d3bfd9eb813",
     "grade": true,
     "grade_id": "interactex04b",
     "points": 4
    }
   },
   "outputs": [],
   "source": [
    "assert True # use this cell to grade the plot_random_line function"
   ]
  },
  {
   "cell_type": "markdown",
   "metadata": {
    "nbgrader": {}
   },
   "source": [
    "Use `interact` to explore the `plot_random_line` function using:\n",
    "\n",
    "* `m`: a float valued slider from `-10.0` to `10.0` with steps of `0.1`.\n",
    "* `b`: a float valued slider from `-5.0` to `5.0` with steps of `0.1`.\n",
    "* `sigma`: a float valued slider from `0.0` to `5.0` with steps of `0.01`.\n",
    "* `size`: an int valued slider from `10` to `100` with steps of `10`.\n",
    "* `color`: a dropdown with options for `red`, `green` and `blue`."
   ]
  },
  {
   "cell_type": "code",
   "execution_count": 10,
   "metadata": {
    "collapsed": false,
    "deletable": false,
    "nbgrader": {
     "checksum": "6cff4e8e53b15273846c3aecaea84a3d",
     "solution": true
    }
   },
   "outputs": [
    {
     "data": {
      "image/png": "[encoded data removed]",
      "text/plain": [
       "<matplotlib.figure.Figure at 0x7f84e3ff1a20>"
      ]
     },
     "metadata": {},
     "output_type": "display_data"
    }
   ],
   "source": [
    "interact(plot_random_line, m=(-10.0,10.0,0.1), b=(-5.0,5.0,0.1), sigma=(0.0,5.0,0.01), size=(10,100,10), color=['red','green','blue'])"
   ]
  },
  {
   "cell_type": "code",
   "execution_count": 11,
   "metadata": {
    "collapsed": true,
    "deletable": false,
    "nbgrader": {
     "checksum": "49bbb321697a88612357059cba486cd3",
     "grade": true,
     "grade_id": "interactex04c",
     "points": 4
    }
   },
   "outputs": [],
   "source": [
    "#### assert True # use this cell to grade the plot_random_line interact"
   ]
  }
 ],
 "metadata": {
  "kernelspec": {
   "display_name": "Python 3",
   "language": "python",
   "name": "python3"
  },
  "language_info": {
   "codemirror_mode": {
    "name": "ipython",
    "version": 3
   },
   "file_extension": ".py",
   "mimetype": "text/x-python",
   "name": "python",
   "nbconvert_exporter": "python",
   "pygments_lexer": "ipython3",
   "version": "3.4.0"
  }
 },
 "nbformat": 4,
 "nbformat_minor": 0
}
