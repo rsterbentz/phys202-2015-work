{
 "cells": [
  {
   "cell_type": "markdown",
   "metadata": {
    "nbgrader": {}
   },
   "source": [
    "# Project Euler: Problem 4"
   ]
  },
  {
   "cell_type": "markdown",
   "metadata": {
    "nbgrader": {}
   },
   "source": [
    "https://projecteuler.net/problem=4\n",
    "\n",
    "A palindromic number reads the same both ways. The largest palindrome made from the product of two 2-digit numbers is 9009 = 91 × 99.\n",
    "\n",
    "Find the largest palindrome made from the product of two 3-digit numbers."
   ]
  },
  {
   "cell_type": "code",
   "execution_count": 30,
   "metadata": {
    "collapsed": false,
    "deletable": false,
    "nbgrader": {
     "checksum": "6cff4e8e53b15273846c3aecaea84a3d",
     "solution": true
    }
   },
   "outputs": [],
   "source": [
    "def test_palin(x):\n",
    "    x = str(x)\n",
    "    prod_flip = []\n",
    "    n = len(x) - 1\n",
    "    while n>=0:\n",
    "        prod_flip.append(x[n])\n",
    "        n -= 1\n",
    "    prod_flip = \"\".join(prod_flip)\n",
    "    if prod_flip == x:\n",
    "        return True\n",
    "    else:\n",
    "        return False"
   ]
  },
  {
   "cell_type": "code",
   "execution_count": 31,
   "metadata": {
    "collapsed": false
   },
   "outputs": [],
   "source": [
    "a = list(range(1, 1000))\n",
    "b = list(range(1, 1000))\n",
    "prod_palins = []\n",
    "for i in a:\n",
    "    for j in b:\n",
    "        if test_palin(i*j) == True:\n",
    "            prod_palins.append(i*j)\n",
    "            "
   ]
  },
  {
   "cell_type": "code",
   "execution_count": 32,
   "metadata": {
    "collapsed": false
   },
   "outputs": [
    {
     "name": "stdout",
     "output_type": "stream",
     "text": [
      "90909\n"
     ]
    }
   ],
   "source": [
    "max_palindrome_of_3_digit_multiples = prod_palins[len(prod_palins)-1]\n",
    "print(max_palindrome_of_3_digit_multiples)"
   ]
  },
  {
   "cell_type": "code",
   "execution_count": null,
   "metadata": {
    "collapsed": true,
    "deletable": false,
    "nbgrader": {
     "checksum": "aff23ddd30b5712efa3907cd1608bcf5",
     "grade": true,
     "grade_id": "projecteuler4",
     "points": 10
    }
   },
   "outputs": [],
   "source": [
    "# This cell will be used for grading, leave it at the end of the notebook."
   ]
  },
  {
   "cell_type": "code",
   "execution_count": null,
   "metadata": {
    "collapsed": true
   },
   "outputs": [],
   "source": []
  }
 ],
 "metadata": {
  "kernelspec": {
   "display_name": "Python 3",
   "language": "python",
   "name": "python3"
  },
  "language_info": {
   "codemirror_mode": {
    "name": "ipython",
    "version": 3
   },
   "file_extension": ".py",
   "mimetype": "text/x-python",
   "name": "python",
   "nbconvert_exporter": "python",
   "pygments_lexer": "ipython3",
   "version": "3.4.0"
  }
 },
 "nbformat": 4,
 "nbformat_minor": 0
}
