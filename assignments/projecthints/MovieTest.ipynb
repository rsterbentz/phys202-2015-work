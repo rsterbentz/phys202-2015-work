{
 "cells": [
  {
   "cell_type": "markdown",
   "metadata": {},
   "source": [
    "# Making animations using moviepy"
   ]
  },
  {
   "cell_type": "markdown",
   "metadata": {},
   "source": [
    "http://zulko.github.io/blog/2014/11/29/data-animations-with-python-and-moviepy/\n",
    "\n",
    "http://zulko.github.io/moviepy/"
   ]
  },
  {
   "cell_type": "code",
   "execution_count": 1,
   "metadata": {
    "collapsed": true
   },
   "outputs": [],
   "source": [
    "%matplotlib inline"
   ]
  },
  {
   "cell_type": "code",
   "execution_count": 6,
   "metadata": {
    "collapsed": false
   },
   "outputs": [
    {
     "name": "stdout",
     "output_type": "stream",
     "text": [
      "[MoviePy] >>>> Building video sinc_mpl.mp4\n",
      "[MoviePy] Writing video sinc_mpl.mp4\n",
      "[MoviePy] Done.\n",
      "[MoviePy] >>>> Video ready: sinc_mpl.mp4 \n",
      "\n"
     ]
    },
    {
     "data": {
      "image/png": "[encoded data removed]",
      "text/plain": [
       "<matplotlib.figure.Figure at 0x7fdf957c6048>"
      ]
     },
     "metadata": {},
     "output_type": "display_data"
    }
   ],
   "source": [
    "import matplotlib.pyplot as plt\n",
    "import numpy as np\n",
    "from moviepy.video.io.bindings import mplfig_to_npimage\n",
    "import moviepy.editor as mpy\n",
    "\n",
    "# DRAW A FIGURE WITH MATPLOTLIB\n",
    "\n",
    "duration = 2\n",
    "\n",
    "fig_mpl, ax = plt.subplots(1,figsize=(5,3), facecolor='white')\n",
    "xx = np.linspace(-2,2,200) # the x vector\n",
    "zz = lambda d: np.sinc(xx**2)+np.sin(xx+d) # the (changing) z vector\n",
    "ax.set_title(\"Elevation in 0\")\n",
    "ax.set_ylim(-1.5,2.5)\n",
    "line, = ax.plot(xx, zz(0), lw=3)\n",
    "\n",
    "# ANIMATE WITH MOVIEPY (UPDATE THE CURVE FOR EACH t). MAKE A GIF.\n",
    "\n",
    "def make_frame_mpl(t):\n",
    "    line.set_ydata( zz(2*np.pi*t/duration))  # <= Update the curve\n",
    "    return mplfig_to_npimage(fig_mpl) # RGB image of the figure\n",
    "\n",
    "animation =mpy.VideoClip(make_frame_mpl, duration=duration)\n",
    "animation.write_videofile(\"sinc_mpl.mp4\", fps=20)"
   ]
  }
 ],
 "metadata": {
  "kernelspec": {
   "display_name": "Python 3",
   "language": "python",
   "name": "python3"
  },
  "language_info": {
   "codemirror_mode": {
    "name": "ipython",
    "version": 3
   },
   "file_extension": ".py",
   "mimetype": "text/x-python",
   "name": "python",
   "nbconvert_exporter": "python",
   "pygments_lexer": "ipython3",
   "version": "3.4.0"
  }
 },
 "nbformat": 4,
 "nbformat_minor": 0
}
