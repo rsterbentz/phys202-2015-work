{
 "cells": [
  {
   "cell_type": "markdown",
   "metadata": {
    "nbgrader": {}
   },
   "source": [
    "# Optimization Exercise 1"
   ]
  },
  {
   "cell_type": "markdown",
   "metadata": {
    "nbgrader": {}
   },
   "source": [
    "## Imports"
   ]
  },
  {
   "cell_type": "code",
   "execution_count": 2,
   "metadata": {
    "collapsed": true,
    "nbgrader": {}
   },
   "outputs": [],
   "source": [
    "%matplotlib inline\n",
    "import matplotlib.pyplot as plt\n",
    "import numpy as np\n",
    "import scipy.optimize as opt"
   ]
  },
  {
   "cell_type": "markdown",
   "metadata": {
    "nbgrader": {}
   },
   "source": [
    "## Hat potential"
   ]
  },
  {
   "cell_type": "markdown",
   "metadata": {
    "nbgrader": {}
   },
   "source": [
    "The following potential is often used in Physics and other fields to describe symmetry breaking and is often known as the \"hat potential\":\n",
    "\n",
    "$$ V(x) = -a x^2 + b x^4 $$\n",
    "\n",
    "Write a function `hat(x,a,b)` that returns the value of this function:"
   ]
  },
  {
   "cell_type": "code",
   "execution_count": 3,
   "metadata": {
    "collapsed": false,
    "deletable": false,
    "nbgrader": {
     "checksum": "6cff4e8e53b15273846c3aecaea84a3d",
     "solution": true
    }
   },
   "outputs": [],
   "source": [
    "def hat(x,a,b):\n",
    "    potential = -a*x**2 + b*x**4\n",
    "    return potential"
   ]
  },
  {
   "cell_type": "code",
   "execution_count": 4,
   "metadata": {
    "collapsed": true,
    "deletable": false,
    "nbgrader": {
     "checksum": "7204bd97cd003430289f171b6ba70d63",
     "grade": true,
     "grade_id": "optimizationex01a",
     "points": 2
    }
   },
   "outputs": [],
   "source": [
    "assert hat(0.0, 1.0, 1.0)==0.0\n",
    "assert hat(0.0, 1.0, 1.0)==0.0\n",
    "assert hat(1.0, 10.0, 1.0)==-9.0"
   ]
  },
  {
   "cell_type": "markdown",
   "metadata": {
    "nbgrader": {}
   },
   "source": [
    "Plot this function over the range $x\\in\\left[-3,3\\right]$ with $b=1.0$ and $a=5.0$:"
   ]
  },
  {
   "cell_type": "code",
   "execution_count": 5,
   "metadata": {
    "collapsed": true,
    "nbgrader": {}
   },
   "outputs": [],
   "source": [
    "a = 5.0\n",
    "b = 1.0"
   ]
  },
  {
   "cell_type": "code",
   "execution_count": 6,
   "metadata": {
    "collapsed": false,
    "deletable": false,
    "nbgrader": {
     "checksum": "6cff4e8e53b15273846c3aecaea84a3d",
     "solution": true
    }
   },
   "outputs": [
    {
     "data": {
      "image/png": "[encoded data removed]",
      "text/plain": [
       "<matplotlib.figure.Figure at 0x7f8ffe8fca90>"
      ]
     },
     "metadata": {},
     "output_type": "display_data"
    }
   ],
   "source": [
    "x = np.linspace(-3,3,61)\n",
    "plt.plot(x, hat(x,a,b));"
   ]
  },
  {
   "cell_type": "code",
   "execution_count": 7,
   "metadata": {
    "collapsed": false
   },
   "outputs": [
    {
     "data": {
      "text/plain": [
       "array([ 36.    ,  28.6781,  22.2656,  16.6941,  11.8976,   7.8125,\n",
       "         4.3776,   1.5341,  -0.7744,  -2.6019,  -4.    ,  -5.0179,\n",
       "        -5.7024,  -6.0979,  -6.2464,  -6.1875,  -5.9584,  -5.5939,\n",
       "        -5.1264,  -4.5859,  -4.    ,  -3.3939,  -2.7904,  -2.2099,\n",
       "        -1.6704,  -1.1875,  -0.7744,  -0.4419,  -0.1984,  -0.0499,\n",
       "         0.    ,  -0.0499,  -0.1984,  -0.4419,  -0.7744,  -1.1875,\n",
       "        -1.6704,  -2.2099,  -2.7904,  -3.3939,  -4.    ,  -4.5859,\n",
       "        -5.1264,  -5.5939,  -5.9584,  -6.1875,  -6.2464,  -6.0979,\n",
       "        -5.7024,  -5.0179,  -4.    ,  -2.6019,  -0.7744,   1.5341,\n",
       "         4.3776,   7.8125,  11.8976,  16.6941,  22.2656,  28.6781,  36.    ])"
      ]
     },
     "execution_count": 7,
     "metadata": {},
     "output_type": "execute_result"
    }
   ],
   "source": [
    "hat(x,a,b)"
   ]
  },
  {
   "cell_type": "code",
   "execution_count": 8,
   "metadata": {
    "collapsed": true,
    "deletable": false,
    "nbgrader": {
     "checksum": "bd49ce2f030e3366ee640213f26fdaa6",
     "grade": true,
     "grade_id": "optimizationex01b",
     "points": 2
    }
   },
   "outputs": [],
   "source": [
    "assert True # leave this to grade the plot"
   ]
  },
  {
   "cell_type": "markdown",
   "metadata": {
    "nbgrader": {}
   },
   "source": [
    "Write code that finds the two local minima of this function for $b=1.0$ and $a=5.0$.\n",
    "\n",
    "* Use `scipy.optimize.minimize` to find the minima. You will have to think carefully about how to get this function to find both minima.\n",
    "* Print the x values of the minima.\n",
    "* Plot the function as a blue line.\n",
    "* On the same axes, show the minima as red circles.\n",
    "* Customize your visualization to make it beatiful and effective."
   ]
  },
  {
   "cell_type": "code",
   "execution_count": 10,
   "metadata": {
    "collapsed": false,
    "deletable": false,
    "nbgrader": {
     "checksum": "6cff4e8e53b15273846c3aecaea84a3d",
     "solution": true
    }
   },
   "outputs": [
    {
     "name": "stdout",
     "output_type": "stream",
     "text": [
      "[-1.58113882] [ 1.58113881]\n"
     ]
    }
   ],
   "source": [
    "x0 = [-1.5,1.5]\n",
    "a = 5.0\n",
    "b = 1.0\n",
    "x1 = opt.minimize(lambda x,a,b: -a*x**2 + b*x**4, x0[0], args=(a,b)).x\n",
    "x2 = opt.minimize(lambda x,a,b: -a*x**2 + b*x**4, x0[1], args=(a,b)).x\n",
    "print(x1,x2)"
   ]
  },
  {
   "cell_type": "code",
   "execution_count": 11,
   "metadata": {
    "collapsed": false
   },
   "outputs": [
    {
     "data": {
      "image/png": "[encoded data removed]",
      "text/plain": [
       "<matplotlib.figure.Figure at 0x7f8ffde0df28>"
      ]
     },
     "metadata": {},
     "output_type": "display_data"
    }
   ],
   "source": [
    "plt.plot(x, hat(x,a,b))\n",
    "plt.plot(x1, hat(x1,a,b), 'ro')\n",
    "plt.plot(x2, hat(x2,a,b), 'ro');"
   ]
  },
  {
   "cell_type": "code",
   "execution_count": 11,
   "metadata": {
    "collapsed": true,
    "deletable": false,
    "nbgrader": {
     "checksum": "235361d4c954cf9fd6a8ecef309b3a44",
     "grade": true,
     "grade_id": "optimizationex01c",
     "points": 4
    }
   },
   "outputs": [],
   "source": [
    "assert True # leave this for grading the plot"
   ]
  },
  {
   "cell_type": "markdown",
   "metadata": {
    "nbgrader": {}
   },
   "source": [
    "To check your numerical results, find the locations of the minima analytically. Show and describe the steps in your derivation using LaTeX equations. Evaluate the location of the minima using the above parameters."
   ]
  },
  {
   "cell_type": "markdown",
   "metadata": {
    "deletable": false,
    "nbgrader": {
     "checksum": "d7d37614ffa0d469a42ff3fd121335f2",
     "grade": true,
     "grade_id": "optimizationex01d",
     "points": 2,
     "solution": true
    }
   },
   "source": [
    "Find derivative of hat potential, set that equal to zero, then solve for x.\n",
    "$$$$\n",
    "$$V = -ax^2+bx^4$$\n",
    "$$$$\n",
    "$$\\frac{dV}{dx} = -2ax+4bx^3$$\n",
    "$$$$\n",
    "$$\\frac{dV}{dx} = -2x\\left(a-2bx^2\\right)$$\n",
    "$$$$\n",
    "$$-2x = 0,\\: 2bx^2 = a$$\n",
    "$$$$\n",
    "$$x = 0,\\: x = \\sqrt{\\frac{a}{2b}}$$\n",
    "$$$$\n",
    "For the plot above, we used $a=5.0$ and $b=1.0$. Plugging those in, we get:\n",
    "$$$$\n",
    "$$x=\\pm 1.58113883$$\n",
    "$$$$\n",
    "To determine which are minima, we can look at the the second derivative and see if it is positive at those locations.\n",
    "$$$$\n",
    "$$\\frac{d^2V}{dx^2} = -2a+12bx^2$$\n",
    "$$$$\n",
    "$$x=0:\\: \\frac{d^2V}{dx^2} = -2a = -10 < 0$$\n",
    "$$$$\n",
    "$$x=\\pm 1.58113883:\\: \\frac{d^2V}{dx^2} = -2a+12b\\left(\\sqrt{\\frac{a}{2b}}\\right)^2 = -2a+6a = 20 > 0$$\n",
    "$$$$\n",
    "So $x= \\pm 1.58113883$ are minima!"
   ]
  }
 ],
 "metadata": {
  "kernelspec": {
   "display_name": "Python 3",
   "language": "python",
   "name": "python3"
  },
  "language_info": {
   "codemirror_mode": {
    "name": "ipython",
    "version": 3
   },
   "file_extension": ".py",
   "mimetype": "text/x-python",
   "name": "python",
   "nbconvert_exporter": "python",
   "pygments_lexer": "ipython3",
   "version": "3.4.0"
  }
 },
 "nbformat": 4,
 "nbformat_minor": 0
}
